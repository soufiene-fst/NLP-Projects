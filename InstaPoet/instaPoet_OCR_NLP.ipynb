{
 "cells": [
  {
   "cell_type": "code",
   "execution_count": 1,
   "id": "7f9bcf6c",
   "metadata": {},
   "outputs": [
    {
     "name": "stderr",
     "output_type": "stream",
     "text": [
      "C:\\Users\\Shibin Paul\\anaconda3\\lib\\site-packages\\numpy\\_distributor_init.py:30: UserWarning: loaded more than 1 DLL from .libs:\n",
      "C:\\Users\\Shibin Paul\\anaconda3\\lib\\site-packages\\numpy\\.libs\\libopenblas.PYQHXLVVQ7VESDPUVUADXEVJOBGHJPAY.gfortran-win_amd64.dll\n",
      "C:\\Users\\Shibin Paul\\anaconda3\\lib\\site-packages\\numpy\\.libs\\libopenblas.WCDJNK7YVMPZQ2ME2ZZHJJRJ3JIKNDB7.gfortran-win_amd64.dll\n",
      "  warnings.warn(\"loaded more than 1 DLL from .libs:\"\n"
     ]
    }
   ],
   "source": [
    "import numpy as np\n",
    "import pandas as pd\n",
    "import matplotlib.pyplot as plt\n",
    "import tensorflow as tf\n",
    "import warnings\n",
    "warnings.filterwarnings(\"ignore\")\n",
    "import os\n",
    "import re"
   ]
  },
  {
   "cell_type": "markdown",
   "id": "ba7e4fc1",
   "metadata": {},
   "source": [
    "# dowload data from csv"
   ]
  },
  {
   "cell_type": "code",
   "execution_count": 2,
   "id": "b02a503d",
   "metadata": {},
   "outputs": [],
   "source": [
    "url_csv = pd.read_csv(\"instaPoet.csv\")"
   ]
  },
  {
   "cell_type": "code",
   "execution_count": 3,
   "id": "8b8bcfb4",
   "metadata": {},
   "outputs": [
    {
     "data": {
      "text/html": [
       "<div>\n",
       "<style scoped>\n",
       "    .dataframe tbody tr th:only-of-type {\n",
       "        vertical-align: middle;\n",
       "    }\n",
       "\n",
       "    .dataframe tbody tr th {\n",
       "        vertical-align: top;\n",
       "    }\n",
       "\n",
       "    .dataframe thead th {\n",
       "        text-align: right;\n",
       "    }\n",
       "</style>\n",
       "<table border=\"1\" class=\"dataframe\">\n",
       "  <thead>\n",
       "    <tr style=\"text-align: right;\">\n",
       "      <th></th>\n",
       "      <th>web-scraper-order</th>\n",
       "      <th>web-scraper-start-url</th>\n",
       "      <th>post-src</th>\n",
       "    </tr>\n",
       "  </thead>\n",
       "  <tbody>\n",
       "    <tr>\n",
       "      <th>0</th>\n",
       "      <td>1650356631-21</td>\n",
       "      <td>https://www.instagram.com/shibinjudahpaul/</td>\n",
       "      <td>https://instagram.fmaa3-2.fna.fbcdn.net/v/t51....</td>\n",
       "    </tr>\n",
       "    <tr>\n",
       "      <th>1</th>\n",
       "      <td>1650356631-8</td>\n",
       "      <td>https://www.instagram.com/shibinjudahpaul/</td>\n",
       "      <td>https://instagram.fmaa3-2.fna.fbcdn.net/v/t51....</td>\n",
       "    </tr>\n",
       "    <tr>\n",
       "      <th>2</th>\n",
       "      <td>1650356631-7</td>\n",
       "      <td>https://www.instagram.com/shibinjudahpaul/</td>\n",
       "      <td>https://instagram.fmaa3-2.fna.fbcdn.net/v/t51....</td>\n",
       "    </tr>\n",
       "    <tr>\n",
       "      <th>3</th>\n",
       "      <td>1650356631-10</td>\n",
       "      <td>https://www.instagram.com/shibinjudahpaul/</td>\n",
       "      <td>https://instagram.fmaa3-2.fna.fbcdn.net/v/t51....</td>\n",
       "    </tr>\n",
       "    <tr>\n",
       "      <th>4</th>\n",
       "      <td>1650356631-13</td>\n",
       "      <td>https://www.instagram.com/shibinjudahpaul/</td>\n",
       "      <td>https://instagram.fmaa3-2.fna.fbcdn.net/v/t51....</td>\n",
       "    </tr>\n",
       "  </tbody>\n",
       "</table>\n",
       "</div>"
      ],
      "text/plain": [
       "  web-scraper-order                       web-scraper-start-url  \\\n",
       "0     1650356631-21  https://www.instagram.com/shibinjudahpaul/   \n",
       "1      1650356631-8  https://www.instagram.com/shibinjudahpaul/   \n",
       "2      1650356631-7  https://www.instagram.com/shibinjudahpaul/   \n",
       "3     1650356631-10  https://www.instagram.com/shibinjudahpaul/   \n",
       "4     1650356631-13  https://www.instagram.com/shibinjudahpaul/   \n",
       "\n",
       "                                            post-src  \n",
       "0  https://instagram.fmaa3-2.fna.fbcdn.net/v/t51....  \n",
       "1  https://instagram.fmaa3-2.fna.fbcdn.net/v/t51....  \n",
       "2  https://instagram.fmaa3-2.fna.fbcdn.net/v/t51....  \n",
       "3  https://instagram.fmaa3-2.fna.fbcdn.net/v/t51....  \n",
       "4  https://instagram.fmaa3-2.fna.fbcdn.net/v/t51....  "
      ]
     },
     "execution_count": 3,
     "metadata": {},
     "output_type": "execute_result"
    }
   ],
   "source": [
    "url_csv.head()"
   ]
  },
  {
   "cell_type": "code",
   "execution_count": 7,
   "id": "cbe57924",
   "metadata": {},
   "outputs": [
    {
     "name": "stdout",
     "output_type": "stream",
     "text": [
      "<class 'pandas.core.frame.DataFrame'>\n",
      "RangeIndex: 24 entries, 0 to 23\n",
      "Data columns (total 3 columns):\n",
      " #   Column                 Non-Null Count  Dtype \n",
      "---  ------                 --------------  ----- \n",
      " 0   web-scraper-order      24 non-null     object\n",
      " 1   web-scraper-start-url  24 non-null     object\n",
      " 2   post-src               24 non-null     object\n",
      "dtypes: object(3)\n",
      "memory usage: 704.0+ bytes\n"
     ]
    }
   ],
   "source": [
    "url_csv.info()"
   ]
  },
  {
   "cell_type": "code",
   "execution_count": 12,
   "id": "88eec501",
   "metadata": {
    "collapsed": true
   },
   "outputs": [
    {
     "name": "stdout",
     "output_type": "stream",
     "text": [
      "0 https://instagram.fmaa3-2.fna.fbcdn.net/v/t51.2885-15/12822411_1722575361312606_1865769385_n.jpg?stp=dst-jpg_e35&_nc_ht=instagram.fmaa3-2.fna.fbcdn.net&_nc_cat=106&_nc_ohc=K2m1ecxGwxEAX9OhAhH&edm=APU89FABAAAA&ccb=7-4&oh=00_AT-hdXN69I2t_b-g7Mu5LtA6Hd3GoP__IsSjZfrtEmli6g&oe=6265BE88&_nc_sid=86f79a\n",
      "1 https://instagram.fmaa3-2.fna.fbcdn.net/v/t51.2885-15/14279094_183381815429176_1955239711_n.jpg?stp=dst-jpg_e35&_nc_ht=instagram.fmaa3-2.fna.fbcdn.net&_nc_cat=104&_nc_ohc=QUaIPNuMQPIAX-F7i6S&edm=ABfd0MgBAAAA&ccb=7-4&oh=00_AT-OJ8CpT1J36jBIIuU88n3iTmZ-b4DqCBxeYXvevDoZrg&oe=62646E76&_nc_sid=7bff83\n",
      "2 https://instagram.fmaa3-2.fna.fbcdn.net/v/t51.2885-15/14294951_1058589124239396_1302529575_n.jpg?stp=dst-jpg_e35&_nc_ht=instagram.fmaa3-2.fna.fbcdn.net&_nc_cat=100&_nc_ohc=4SPC1x5H0MEAX_0h2-o&edm=ABfd0MgBAAAA&ccb=7-4&oh=00_AT9M2sSzaJFDyPNM_HuHQlXLYGHC8CXQ5vtjgcAM0r8qag&oe=62648047&_nc_sid=7bff83\n",
      "3 https://instagram.fmaa3-2.fna.fbcdn.net/v/t51.2885-15/13721097_1234707939873095_807300123_n.jpg?stp=dst-jpg_e35&_nc_ht=instagram.fmaa3-2.fna.fbcdn.net&_nc_cat=111&_nc_ohc=6zJl_3RM78IAX-DTFwn&edm=ABfd0MgBAAAA&ccb=7-4&oh=00_AT_qjyXt8RBLO-vUoNt9numEfWbT3vlsAQXE_6Mk5Y7WTg&oe=6265049D&_nc_sid=7bff83\n",
      "4 https://instagram.fmaa3-2.fna.fbcdn.net/v/t51.2885-15/13117918_665623676920180_1214778110_n.jpg?stp=dst-jpg_e35&_nc_ht=instagram.fmaa3-2.fna.fbcdn.net&_nc_cat=104&_nc_ohc=SIy2VmqGP2UAX-d1KW7&tn=Lu7fYNOxX1vsyiUR&edm=APU89FABAAAA&ccb=7-4&oh=00_AT_n-Ukh1DycgOkJMrKUPd0CTuG62zOU4ZW8-ujtt-zbfw&oe=62658DA4&_nc_sid=86f79a\n",
      "5 https://instagram.fmaa3-2.fna.fbcdn.net/v/t51.2885-15/12328263_1584869258440455_500485966_n.jpg?stp=dst-jpg_e35&_nc_ht=instagram.fmaa3-2.fna.fbcdn.net&_nc_cat=103&_nc_ohc=zL2WNd70KgwAX-LBGLr&edm=APU89FABAAAA&ccb=7-4&oh=00_AT-h9iNrWuhe0aPi9n8eScUnAYewU8HwbXpMj9JhcEskxA&oe=6264C074&_nc_sid=86f79a\n",
      "6 https://instagram.fmaa3-2.fna.fbcdn.net/v/t51.2885-15/27580859_346113709223011_725033884504293376_n.jpg?stp=dst-jpg_e35_s640x640_sh0.08&_nc_ht=instagram.fmaa3-2.fna.fbcdn.net&_nc_cat=107&_nc_ohc=-4t8maKFoHUAX_UhZOE&edm=ABfd0MgBAAAA&ccb=7-4&oh=00_AT-kes8KqEvKTHQ73ZzWNXXIlCFc738d_Wi37EojcePCxw&oe=62657E5B&_nc_sid=7bff83\n",
      "7 https://instagram.fmaa3-2.fna.fbcdn.net/v/t51.2885-15/13116805_1714050432189486_440298405_n.jpg?stp=dst-jpg_e35&_nc_ht=instagram.fmaa3-2.fna.fbcdn.net&_nc_cat=106&_nc_ohc=s6L_Ncl822gAX8qNAHf&edm=APU89FABAAAA&ccb=7-4&oh=00_AT_cXIEeOmOCJMbY4YgT5cginTlnrpzUEpDBwjeq2k5xBw&oe=62662A18&_nc_sid=86f79a\n",
      "8 https://instagram.fmaa3-2.fna.fbcdn.net/v/t51.2885-15/12545267_909491019147705_223663195_n.jpg?stp=dst-jpg_e35&_nc_ht=instagram.fmaa3-2.fna.fbcdn.net&_nc_cat=109&_nc_ohc=FZLQagcpYU4AX_YWzzj&edm=APU89FABAAAA&ccb=7-4&oh=00_AT_m_-TyEHQqmcnD_iizMNJQmsSKwr2_LeM5vZ4mVoaVLQ&oe=62664B07&_nc_sid=86f79a\n",
      "9 https://instagram.fmaa3-2.fna.fbcdn.net/v/t51.2885-15/43680789_1923044514439903_5638604438017009350_n.jpg?stp=dst-jpg_e35_s640x640_sh0.08&_nc_ht=instagram.fmaa3-2.fna.fbcdn.net&_nc_cat=107&_nc_ohc=FmMJI0TU8y8AX91fMI2&edm=ABfd0MgBAAAA&ccb=7-4&oh=00_AT-7Q6oERDviUULIoW8AvaRdbmKEtD_Ao1hIOZOw_aIbFA&oe=6265A069&_nc_sid=7bff83\n",
      "10 https://instagram.fmaa3-2.fna.fbcdn.net/v/t51.2885-15/12751375_1675420076062095_131952190_n.jpg?stp=dst-jpg_e35&_nc_ht=instagram.fmaa3-2.fna.fbcdn.net&_nc_cat=103&_nc_ohc=38nUQ-N32P8AX8NFwzc&edm=APU89FABAAAA&ccb=7-4&oh=00_AT-UvPKK0umXHm3isGW-xWRYhyi26HgxkfjO7JU8KG_6Sg&oe=626609DB&_nc_sid=86f79a\n",
      "11 https://instagram.fmaa3-2.fna.fbcdn.net/v/t51.2885-15/13129399_1608305446122240_1161567158_n.jpg?stp=dst-jpg_e35&_nc_ht=instagram.fmaa3-2.fna.fbcdn.net&_nc_cat=100&_nc_ohc=u7dLhkAd8pMAX9X_sb0&edm=APU89FABAAAA&ccb=7-4&oh=00_AT98AXwqm3sNlREgN8M_C4l11VDs14BIJ2eeofLb0VRGvQ&oe=6265E252&_nc_sid=86f79a\n",
      "12 https://instagram.fmaa3-2.fna.fbcdn.net/v/t51.2885-15/12519567_1729789793902112_1422921108_n.jpg?stp=dst-jpg_e35_s640x640_sh0.08&_nc_ht=instagram.fmaa3-2.fna.fbcdn.net&_nc_cat=108&_nc_ohc=aNT0i_XOVBgAX9os0M4&edm=APU89FABAAAA&ccb=7-4&oh=00_AT_ZLOq4ZuEC_NF1oPPMeBNU-YhvvccDqRnShAqZcPpSQg&oe=626473FB&_nc_sid=86f79a\n",
      "13 https://instagram.fmaa3-2.fna.fbcdn.net/v/t51.2885-15/12907268_251096248564474_643761974_n.jpg?stp=dst-jpg_e35&_nc_ht=instagram.fmaa3-2.fna.fbcdn.net&_nc_cat=110&_nc_ohc=kzyKnt8-DbgAX-ShwoP&edm=APU89FABAAAA&ccb=7-4&oh=00_AT8sqmhHiaGuP3FX-WOiNCeh4MheU7ibtMateAU17kVjrA&oe=6265137E&_nc_sid=86f79a\n",
      "14 https://instagram.fmaa3-2.fna.fbcdn.net/v/t51.2885-15/19534052_1220118584765485_8788768831658000384_n.jpg?stp=dst-jpg_e35_s640x640_sh0.08&_nc_ht=instagram.fmaa3-2.fna.fbcdn.net&_nc_cat=101&_nc_ohc=anC8ZDmbGroAX8udcZa&edm=ABfd0MgBAAAA&ccb=7-4&oh=00_AT-vdZ1_88hN95x4h1RCR-SlHeRzAyJ52k0wJV3JSH1vSA&oe=6265D0A4&_nc_sid=7bff83\n",
      "15 https://instagram.fmaa3-2.fna.fbcdn.net/v/t51.2885-15/12383655_462616620603703_11630709_n.jpg?stp=dst-jpg_e35&_nc_ht=instagram.fmaa3-2.fna.fbcdn.net&_nc_cat=107&_nc_ohc=lY55ua9Lv4gAX_4ZFoI&edm=APU89FABAAAA&ccb=7-4&oh=00_AT_0F0c0BKK2vdTJbKV0OrOuIllJro764cOqNeL74Dfemg&oe=62652F2B&_nc_sid=86f79a\n",
      "16 https://instagram.fmaa3-2.fna.fbcdn.net/v/t51.2885-15/14583296_1203761576350357_1255731047304265728_n.jpg?stp=dst-jpg_e35&_nc_ht=instagram.fmaa3-2.fna.fbcdn.net&_nc_cat=101&_nc_ohc=AKTPkForNSQAX_ViMUP&edm=ABfd0MgBAAAA&ccb=7-4&oh=00_AT8m_p3tcwvkIdwYDku159aJccqpeUpixHHl_g0tnmP0sw&oe=626589EF&_nc_sid=7bff83\n",
      "17 https://instagram.fmaa3-2.fna.fbcdn.net/v/t51.2885-15/13267410_221568924894679_126495727_n.jpg?stp=dst-jpg_e35&_nc_ht=instagram.fmaa3-2.fna.fbcdn.net&_nc_cat=107&_nc_ohc=GcmVCccP1RQAX-HWkUK&edm=ABfd0MgBAAAA&ccb=7-4&oh=00_AT-cRpojtilNB2dDnthIFAp9pMBRhf28fz3LvWkFS5zL8g&oe=6265354A&_nc_sid=7bff83\n",
      "18 https://instagram.fmaa3-2.fna.fbcdn.net/v/t51.2885-15/20214174_475331696163415_5242841667416883200_n.jpg?stp=dst-jpg_e35_s640x640_sh0.08&_nc_ht=instagram.fmaa3-2.fna.fbcdn.net&_nc_cat=107&_nc_ohc=w8k6SNXeioUAX8w4A0y&edm=ABfd0MgBAAAA&ccb=7-4&oh=00_AT9z55kilklQpuAmXjAoXOJ_exwpO1mb8PZFu0QCPvx_7w&oe=6265A043&_nc_sid=7bff83\n",
      "19 https://instagram.fmaa3-2.fna.fbcdn.net/v/t51.2885-15/13116545_1714579075496811_68470587_n.jpg?stp=dst-jpg_e35&_nc_ht=instagram.fmaa3-2.fna.fbcdn.net&_nc_cat=103&_nc_ohc=saiMvTpuNpEAX9WZ_St&edm=APU89FABAAAA&ccb=7-4&oh=00_AT82SC4EmU4Nj8jrdSl05515ix82oQe36zJ4Lw5nyEq9MA&oe=626619C6&_nc_sid=86f79a\n",
      "20 https://instagram.fmaa3-2.fna.fbcdn.net/v/t51.2885-15/14032909_308890656142325_472700876_n.jpg?stp=dst-jpg_e35&_nc_ht=instagram.fmaa3-2.fna.fbcdn.net&_nc_cat=105&_nc_ohc=dDRIk75r__gAX-Rc8I4&edm=ABfd0MgBAAAA&ccb=7-4&oh=00_AT-Hy2VpQsxD_dZKWhONBKuinDvAd4lDV_9MSeR8nHClhQ&oe=6265AA3F&_nc_sid=7bff83\n",
      "21 https://instagram.fmaa3-2.fna.fbcdn.net/v/t51.2885-15/12328482_975923135817175_565632147_n.jpg?stp=dst-jpg_e35&_nc_ht=instagram.fmaa3-2.fna.fbcdn.net&_nc_cat=107&_nc_ohc=Uk1YYQhBLxcAX9BIeuY&edm=APU89FABAAAA&ccb=7-4&oh=00_AT9PSYX1VC5xOpTfalZsw-lA13T1nd-nBqX8tVvVdh8Abg&oe=62650D00&_nc_sid=86f79a\n",
      "22 https://instagram.fmaa3-2.fna.fbcdn.net/v/t51.2885-15/13102464_1775147539381690_1331082359_n.jpg?stp=dst-jpg_e35&_nc_ht=instagram.fmaa3-2.fna.fbcdn.net&_nc_cat=110&_nc_ohc=zuC6Z__knBYAX_6psIW&edm=ABfd0MgBAAAA&ccb=7-4&oh=00_AT9GwaRo1sfi9QTfn_sU6Go96UX2vynOAyiOCnyfZf_mVg&oe=6265510A&_nc_sid=7bff83\n",
      "23 https://instagram.fmaa3-2.fna.fbcdn.net/v/t51.2885-15/15802336_1204808116268014_891694481198284800_n.jpg?stp=dst-jpg_e35&_nc_ht=instagram.fmaa3-2.fna.fbcdn.net&_nc_cat=110&_nc_ohc=SSeV9IU8MRQAX9f160X&edm=ABfd0MgBAAAA&ccb=7-4&oh=00_AT9mJ2P94CmjPzw2NDGh3vWvub2GoG9wMYYUNAUnovn9lQ&oe=6265B0F1&_nc_sid=7bff83\n"
     ]
    }
   ],
   "source": [
    "for i, url in enumerate(url_csv['post-src']):\n",
    "    print(i,url)"
   ]
  },
  {
   "cell_type": "code",
   "execution_count": 9,
   "id": "9b93e98a",
   "metadata": {},
   "outputs": [],
   "source": [
    "import urllib.request"
   ]
  },
  {
   "cell_type": "code",
   "execution_count": 11,
   "id": "eb150702",
   "metadata": {},
   "outputs": [
    {
     "data": {
      "text/plain": [
       "('sample1.jpg', <http.client.HTTPMessage at 0x141a54f580>)"
      ]
     },
     "execution_count": 11,
     "metadata": {},
     "output_type": "execute_result"
    }
   ],
   "source": [
    "urllib.request.urlretrieve(url_csv['post-src'][0],'sample1.jpg')"
   ]
  },
  {
   "cell_type": "code",
   "execution_count": 17,
   "id": "fdb09756",
   "metadata": {},
   "outputs": [],
   "source": [
    "for i, url in enumerate(url_csv['post-src']):\n",
    "    img_name = 'img'+str(i)+'.jpg'\n",
    "    urllib.request.urlretrieve(url,img_name)"
   ]
  },
  {
   "cell_type": "markdown",
   "id": "3b89161d",
   "metadata": {},
   "source": [
    "# clean up data"
   ]
  },
  {
   "cell_type": "code",
   "execution_count": 1,
   "id": "fc3f13b0",
   "metadata": {},
   "outputs": [
    {
     "name": "stdout",
     "output_type": "stream",
     "text": [
      "C:\\Users\\Shibin Paul\\Documents\\ML_projects\\TF Dev Certification\\Exam Prep\\instaPoet_Data\n"
     ]
    }
   ],
   "source": [
    "#rename the files to a uniform name\n",
    "#using os and its apis\n",
    "import os\n",
    "\n",
    "os.chdir('instaPoet_Data')\n",
    "print(os.getcwd())\n",
    "\n",
    "for count, f in enumerate(os.listdir()):\n",
    "    f_name, f_ext = os.path.splitext(f)\n",
    "    f_name = \"image\" + str(count)\n",
    "    #f_ext = '.jpg'\n",
    "\n",
    "    new_name = f'{f_name}{f_ext}'\n",
    "    os.rename(f, new_name)"
   ]
  },
  {
   "cell_type": "markdown",
   "id": "c329dfd9",
   "metadata": {},
   "source": [
    "# trim out the author name"
   ]
  },
  {
   "cell_type": "code",
   "execution_count": null,
   "id": "c2343778",
   "metadata": {},
   "outputs": [],
   "source": []
  },
  {
   "cell_type": "markdown",
   "id": "e23c5775",
   "metadata": {},
   "source": [
    "# Preprocess for tesseract\n"
   ]
  },
  {
   "cell_type": "code",
   "execution_count": null,
   "id": "7ab49575",
   "metadata": {},
   "outputs": [],
   "source": [
    "#Initial run proved that the API performed better with lighter BG and darker font"
   ]
  },
  {
   "cell_type": "code",
   "execution_count": 4,
   "id": "b8c1b753",
   "metadata": {},
   "outputs": [],
   "source": [
    "import tempfile\n",
    "\n",
    "import cv2\n",
    "import numpy as np\n",
    "from PIL import Image\n",
    "\n",
    "IMAGE_SIZE = 640\n",
    "BINARY_THREHOLD = 180\n",
    "\n",
    "def process_image_for_ocr(file_path):\n",
    "    # TODO : Implement using opencv\n",
    "    temp_filename = set_image_dpi(file_path)\n",
    "    im_new = remove_noise_and_smooth(temp_filename)\n",
    "    return cv2.bitwise_not(im_new)\n",
    "\n",
    "def set_image_dpi(file_path):\n",
    "    im = Image.open(file_path)\n",
    "    length_x, width_y = im.size\n",
    "    factor = max(1, int(IMAGE_SIZE / length_x))\n",
    "    size = factor * length_x, factor * width_y\n",
    "    # size = (1800, 1800)\n",
    "    im_resized = im.resize(size, Image.ANTIALIAS)\n",
    "    temp_file = tempfile.NamedTemporaryFile(delete=False, suffix='.jpg')\n",
    "    temp_filename = temp_file.name\n",
    "    im_resized.save(temp_filename, dpi=(300, 300))\n",
    "    return temp_filename\n",
    "\n",
    "def image_smoothening(img):\n",
    "    ret1, th1 = cv2.threshold(img, BINARY_THREHOLD, 255, cv2.THRESH_BINARY)\n",
    "    ret2, th2 = cv2.threshold(th1, 0, 255, cv2.THRESH_BINARY + cv2.THRESH_OTSU)\n",
    "    blur = cv2.GaussianBlur(th2, (1, 1), 0)\n",
    "    ret3, th3 = cv2.threshold(blur, 0, 255, cv2.THRESH_BINARY + cv2.THRESH_OTSU)\n",
    "    return th3\n",
    "\n",
    "def remove_noise_and_smooth(file_name):\n",
    "    img = cv2.imread(file_name, 0)\n",
    "    filtered = cv2.adaptiveThreshold(img.astype(np.uint8), 255, cv2.ADAPTIVE_THRESH_MEAN_C, cv2.THRESH_BINARY, 41,\n",
    "                                     3)\n",
    "    kernel = np.ones((1, 1), np.uint8)\n",
    "    opening = cv2.morphologyEx(filtered, cv2.MORPH_OPEN, kernel)\n",
    "    closing = cv2.morphologyEx(opening, cv2.MORPH_CLOSE, kernel)\n",
    "    img = image_smoothening(img)\n",
    "    or_image = cv2.bitwise_or(img, closing)\n",
    "    return or_image"
   ]
  },
  {
   "cell_type": "code",
   "execution_count": 60,
   "id": "1dfa72c4",
   "metadata": {},
   "outputs": [],
   "source": [
    "img =  process_image_for_ocr('instaPoet_Data\\\\img170.jpg')"
   ]
  },
  {
   "cell_type": "code",
   "execution_count": 61,
   "id": "7d3f8cf6",
   "metadata": {},
   "outputs": [
    {
     "data": {
      "text/plain": [
       "<matplotlib.image.AxesImage at 0x64ade4aee0>"
      ]
     },
     "execution_count": 61,
     "metadata": {},
     "output_type": "execute_result"
    },
    {
     "data": {
      "image/png": "[encoded data removed]",
      "text/plain": [
       "<Figure size 432x288 with 1 Axes>"
      ]
     },
     "metadata": {
      "needs_background": "light"
     },
     "output_type": "display_data"
    }
   ],
   "source": [
    "import matplotlib.pyplot as plt\n",
    "plt.imshow(img)"
   ]
  },
  {
   "cell_type": "code",
   "execution_count": 68,
   "id": "a0586286",
   "metadata": {},
   "outputs": [
    {
     "data": {
      "text/plain": [
       "<matplotlib.image.AxesImage at 0x64af780280>"
      ]
     },
     "execution_count": 68,
     "metadata": {},
     "output_type": "execute_result"
    },
    {
     "data": {
      "image/png": "[encoded data removed]",
      "text/plain": [
       "<Figure size 432x288 with 1 Axes>"
      ]
     },
     "metadata": {
      "needs_background": "light"
     },
     "output_type": "display_data"
    }
   ],
   "source": [
    "img=cv2.imread('instaPoet_Data\\\\img170.jpg')\n",
    "imgrey=cv2.bitwise_not(img)\n",
    "plt.imshow(imgrey)"
   ]
  },
  {
   "cell_type": "markdown",
   "id": "ad0ddd78",
   "metadata": {},
   "source": [
    "# Extract poetry from the posts"
   ]
  },
  {
   "cell_type": "code",
   "execution_count": 2,
   "id": "3f1047d6",
   "metadata": {},
   "outputs": [],
   "source": [
    "#using PIL to open Images\n",
    "#using Pytesseract to perform OCR on the posts\n",
    "import os\n",
    "from PIL import Image\n",
    "import pytesseract as pyt\n",
    "pyt.pytesseract.tesseract_cmd = r'C:\\Program Files\\Tesseract-OCR\\tesseract.exe'"
   ]
  },
  {
   "cell_type": "code",
   "execution_count": 3,
   "id": "8070a72e",
   "metadata": {},
   "outputs": [],
   "source": [
    "postPath = \"instaPoet_Data\"\n",
    "textPath = \"instaPoet_textData\\\\poetry.txt\""
   ]
  },
  {
   "cell_type": "code",
   "execution_count": 5,
   "id": "ebf7eb22",
   "metadata": {},
   "outputs": [],
   "source": [
    "for i, imageName in enumerate(os.listdir(postPath)):\n",
    "    imagePath = os.path.join(postPath, imageName)\n",
    "    #img = Image.open(imagePath)\n",
    "    img=cv2.imread(imagePath)\n",
    "    imgrey=cv2.bitwise_not(img)\n",
    "    #preproc_img = process_image_for_ocr(imagePath)\n",
    "    text = pyt.image_to_string(imgrey, lang='eng')\n",
    "    \n",
    "    txtFile = open(textPath, \"a+\")\n",
    "    \n",
    "    if i == 0:\n",
    "        txtFile.write(\"id,img_name,poem\\n\")\n",
    "    \n",
    "    txtFile.write(str(i)+\",\")\n",
    "    txtFile.write(imageName+\",\")\n",
    "    txtFile.write(text+\".\")\n",
    "    txtFile.write(\"\\n\")\n",
    "    \n",
    "    txtFile.close()\n",
    "    \n",
    "    \n",
    "    "
   ]
  },
  {
   "cell_type": "code",
   "execution_count": 75,
   "id": "23908999",
   "metadata": {},
   "outputs": [
    {
     "data": {
      "text/plain": [
       "'\\nv1 = raw ocr\\nv2 = preproc ocr\\nv3 = preproc + not ocr; best version so far\\nv4 = only not ocr\\nv5 = only not ocr + optimized images\\n'"
      ]
     },
     "execution_count": 75,
     "metadata": {},
     "output_type": "execute_result"
    }
   ],
   "source": [
    "\"\"\"\n",
    "v1 = raw ocr\n",
    "v2 = preproc ocr\n",
    "v3 = preproc + not ocr; best version so far\n",
    "v4 = only not ocr\n",
    "v5 = only not ocr + optimized images\n",
    "\"\"\"\n",
    "#poetry.txt needs a final duplicates check and spelling check before it can be dataframed\n"
   ]
  },
  {
   "cell_type": "markdown",
   "id": "457addf6",
   "metadata": {},
   "source": [
    "# remove punctuation and readjust index"
   ]
  },
  {
   "cell_type": "code",
   "execution_count": 4,
   "id": "547300e9",
   "metadata": {},
   "outputs": [],
   "source": [
    "targetPath = \"instaPoet_textData\\\\poetry.txt\""
   ]
  },
  {
   "cell_type": "code",
   "execution_count": 24,
   "id": "75e98d31",
   "metadata": {
    "collapsed": true
   },
   "outputs": [
    {
     "name": "stdout",
     "output_type": "stream",
     "text": [
      "id,img_name,poem\n",
      "\n",
      "0,image0.jpg,WE FEAR THE DARKNESS FOR WE ARE UNSURE OF ITS ENTIRETY. WE FEAR THE BEASTS FOR ITS SHARP CLAWS AND IGNORE ITS VULNERABILITY. WE FEAR THE GIANT FOR HIS SIZE AND IGNORE HIS IMMOBILITY. AND WHEN YOU REALIZE FEAR IS JUST A CONCEPT CONCOCTED BY YOUR OWN MIND, YOU ARE FREE. \f",
      ".\n",
      "\n",
      "1,image1.jpg,THE DAY I DISCOVERED THERE IS NO HEAVEN, IS THE DAY I DISCOVERED THERE IS NO HELL TOO, AND THAT MADE ALL THE DIFFERENCE. \f",
      ".\n",
      "\n",
      "2,image10.jpg,I WILL HOLD MY BREATH AS THE DIRT FILLS MY LUNGS AND OVERFLOWS THROUGH MY NOSTRILS. I WILL KEEP MY EYES SHUT AS IT COVERS MY FACE. I WILL STAY QUITE. I WILL NOT MOVE. I WILL STAY STILL. I WILL JUST BE. I WILL JUST BE. \f",
      ". \n",
      "\n",
      "3,image100.jpg,IT STARTED OUT WITH A TOUCH OF DESTINY, BUT ENDED WITH A KISS OF REALITY. \f",
      ". \n",
      "\n",
      "4,image101.jpg,THE VALLEY ALONG HER SPINE, THE DIMPLES ABOVE HER ARSE, THE JIGGLE IN HER BELLY, THE MUSK BETWEEN HER THIGHS, THESE ARE THE REASONS THAT BLUR THE LINE BETWEEN LUST AND LOVE. \f",
      ".\n",
      "\n",
      "5,image102.jpg,SHE CAME IN TO MY BED OF THORNS, AND TOGETHER, WE MADE IT OUR BED OF SINS. \f",
      ". \n",
      "\n",
      "6,image103.jpg,AND THEN I REALIZED, SHE WAS NEVER THE MUSE, IT WAS THE HEARTBREAKS SHE CAUSED. \f",
      ". \n",
      "\n",
      "7,image104.jpg,SHE BUILT THE SACRED OF ALL PROMISES, AND BROKE THEM WITH SUCH GRACE, LIKE ONLY SHE COULD. \f",
      ". \n",
      "\n",
      "8,image105.jpg,AND WHEN I SAW HER, I KNEW, SHE WAS EVERY BIT OF CHAOS THAT HAS BEEN MISSING IN MY LIFE. \f",
      ". \n",
      "\n"
     ]
    }
   ],
   "source": [
    "f = open(targetPath,\"r\")\n",
    "for i in range(10):\n",
    "    print(f.readline())\n",
    "f.close()"
   ]
  },
  {
   "cell_type": "code",
   "execution_count": 5,
   "id": "a94dc475",
   "metadata": {},
   "outputs": [],
   "source": [
    "f = open(targetPath,\"r\")\n",
    "poetry_list = f.readlines()\n",
    "f.close()"
   ]
  },
  {
   "cell_type": "code",
   "execution_count": 27,
   "id": "fc2fc981",
   "metadata": {},
   "outputs": [
    {
     "data": {
      "text/plain": [
       "169"
      ]
     },
     "execution_count": 27,
     "metadata": {},
     "output_type": "execute_result"
    }
   ],
   "source": [
    "len(poetry_list)"
   ]
  },
  {
   "cell_type": "code",
   "execution_count": 73,
   "id": "bd8b879a",
   "metadata": {},
   "outputs": [],
   "source": [
    "s = poetry_list[1].split(',',2)[2]"
   ]
  },
  {
   "cell_type": "code",
   "execution_count": 79,
   "id": "f0366e31",
   "metadata": {},
   "outputs": [],
   "source": [
    "s = re.sub(\"[.,]\",\"\",s)"
   ]
  },
  {
   "cell_type": "code",
   "execution_count": 80,
   "id": "bb5e0c32",
   "metadata": {},
   "outputs": [
    {
     "name": "stdout",
     "output_type": "stream",
     "text": [
      "WE FEAR THE DARKNESS FOR WE ARE UNSURE OF ITS ENTIRETY WE FEAR THE BEASTS FOR ITS SHARP CLAWS AND IGNORE ITS VULNERABILITY WE FEAR THE GIANT FOR HIS SIZE AND IGNORE HIS IMMOBILITY AND WHEN YOU REALIZE FEAR IS JUST A CONCEPT CONCOCTED BY YOUR OWN MIND YOU ARE FREE \f",
      "\n",
      "\n"
     ]
    }
   ],
   "source": [
    "print(s)"
   ]
  },
  {
   "cell_type": "code",
   "execution_count": 18,
   "id": "7686d82f",
   "metadata": {},
   "outputs": [],
   "source": [
    "lst=[1,2]"
   ]
  },
  {
   "cell_type": "code",
   "execution_count": 19,
   "id": "cba27b3e",
   "metadata": {},
   "outputs": [],
   "source": [
    "lst.append(0)"
   ]
  },
  {
   "cell_type": "code",
   "execution_count": 20,
   "id": "98b906dc",
   "metadata": {},
   "outputs": [
    {
     "data": {
      "text/plain": [
       "[1, 2, 0]"
      ]
     },
     "execution_count": 20,
     "metadata": {},
     "output_type": "execute_result"
    }
   ],
   "source": [
    "lst"
   ]
  },
  {
   "cell_type": "code",
   "execution_count": null,
   "id": "c20c1a09",
   "metadata": {},
   "outputs": [],
   "source": []
  },
  {
   "cell_type": "code",
   "execution_count": 15,
   "id": "eb58931e",
   "metadata": {
    "collapsed": true
   },
   "outputs": [
    {
     "data": {
      "text/plain": [
       "['id,img_name,poem\\n',\n",
       " '0,image0.jpg,WE FEAR THE DARKNESS FOR WE ARE UNSURE OF ITS ENTIRETY. WE FEAR THE BEASTS FOR ITS SHARP CLAWS AND IGNORE ITS VULNERABILITY. WE FEAR THE GIANT FOR HIS SIZE AND IGNORE HIS IMMOBILITY. AND WHEN YOU REALIZE FEAR IS JUST A CONCEPT CONCOCTED BY YOUR OWN MIND, YOU ARE FREE. \\x0c.\\n',\n",
       " '1,image1.jpg,THE DAY I DISCOVERED THERE IS NO HEAVEN, IS THE DAY I DISCOVERED THERE IS NO HELL TOO, AND THAT MADE ALL THE DIFFERENCE. \\x0c.\\n',\n",
       " '2,image10.jpg,I WILL HOLD MY BREATH AS THE DIRT FILLS MY LUNGS AND OVERFLOWS THROUGH MY NOSTRILS. I WILL KEEP MY EYES SHUT AS IT COVERS MY FACE. I WILL STAY QUITE. I WILL NOT MOVE. I WILL STAY STILL. I WILL JUST BE. I WILL JUST BE. \\x0c. \\n',\n",
       " '3,image100.jpg,IT STARTED OUT WITH A TOUCH OF DESTINY, BUT ENDED WITH A KISS OF REALITY. \\x0c. \\n',\n",
       " '4,image101.jpg,THE VALLEY ALONG HER SPINE, THE DIMPLES ABOVE HER ARSE, THE JIGGLE IN HER BELLY, THE MUSK BETWEEN HER THIGHS, THESE ARE THE REASONS THAT BLUR THE LINE BETWEEN LUST AND LOVE. \\x0c.\\n',\n",
       " '5,image102.jpg,SHE CAME IN TO MY BED OF THORNS, AND TOGETHER, WE MADE IT OUR BED OF SINS. \\x0c. \\n',\n",
       " '6,image103.jpg,AND THEN I REALIZED, SHE WAS NEVER THE MUSE, IT WAS THE HEARTBREAKS SHE CAUSED. \\x0c. \\n',\n",
       " '7,image104.jpg,SHE BUILT THE SACRED OF ALL PROMISES, AND BROKE THEM WITH SUCH GRACE, LIKE ONLY SHE COULD. \\x0c. \\n',\n",
       " '8,image105.jpg,AND WHEN I SAW HER, I KNEW, SHE WAS EVERY BIT OF CHAOS THAT HAS BEEN MISSING IN MY LIFE. \\x0c. \\n',\n",
       " '9,image106.jpg,OUR CHILDHOODS ENTWINED, SHE WAS THE MOTHER I NEVER HAD, WHILE I WAS THE BROTHER SHE NEVER HAD. AND WHEN WE FUCKED, THE GODS SENT DOWN TORRENTS OF RAIN. \\x0c. \\n',\n",
       " '10,image107.jpg,HER BODY MAKES ME INHALE FAST AND EXHALE SLOWLY. \\x0c. \\n',\n",
       " '11,image108.jpg,HER LIPS ARE LIKE PUNCTUATION TO THE POETRY THAT IS HER BODY. \\x0c.\\n',\n",
       " '12,image109.jpg,MY LUST FOR YOU IS CODED BY THE GODS IN MY DNA. \\x0c. \\n',\n",
       " '13,image11.jpg,ONE LONG AND HONEST LETTER, ONE LETTER TO CURE ME FROM THE BLUES, ONE LETTER TO STIR UP THE PEACE, ONE LETTER TO WREAK CHAS, ONE LETTER IS ALL IT TAKES, AND THAT ONE LETTER WILL FOREVER STAY IN ME. \\x0c. \\n',\n",
       " '14,image110.jpg,HE POINTS A GUN WITH A SINGLE BULLET TO HIS HEAD, AND PULLS THE TRIGGER. SHE LOVES ME. SHE LOVES ME NOT. SHE LOVES ME. SHE LOVES ME NOT. SHE LOVES ME. AND BANG GOES THE BULLET. DOWN FALLS THE MAN DEEPINTOO A BLISSFUL OBLIVION. \\x0c. \\n',\n",
       " '15,image111.jpg,SHE REDUCED MY PAIN TO MERE WORDS; MY HAPPINESS TO AN UBIQUITOUS INFINITY. \\x0c. \\n',\n",
       " '18,image114.jpg,THE WETNESS OF YOUR LIPS SET MY VEINS ON FIRE\\x0c.\\n',\n",
       " \"19,image115.jpg,MY LOVE FOR HER WAS LIKE DEMENTIA; I SAW ALL HER DEMONS LIKE THE LORD'S OWN. \\x0c. \\n\",\n",
       " '21,image117.jpg,THE THOUGHT OF YOUR HEAVING CHEST, KNOCKED THE AIR OUT OF MINE. \\x0c. \\n',\n",
       " \"22,image118.jpg,WE CAME FROM BROKEN FAMILIES, LEAVING US WITH STAGNANT CHILDHOOD DESIRES, WE ACHED FOR LOVE IN ALL THE WRONG PLACES, AND IGNORED THE VANILLA. THAT'S WHY I'M HER HOME , AND SHE IS MY PARADISE. THAT'S WHY I'M HER DADDY, AND SHE IS MY BABY GIRL. \\x0c. \\n\",\n",
       " '23,image119.jpg,HER EYES GLISTENED, STILL, WITH THE FEAR OF SHEDDING THE TEAR AT BAY. EVERYTHING STOPPED, EVERYTHING SLOWED. AND THEN FINALLY, HE TURNED AROUND TO LEAVE, SHE BLINKED. \\x0c. \\n',\n",
       " '24,image12.jpg,STONEHEARTED, THE BLEEDING STARTED, THE CREVICES TREMBLED, THE CAPILLARIES RAN FROM THE SURFACE TO THE CORE, STONE HEARTED, THE BLEEDING STARTED, THIS PAIN WILL LAST FOREVER MORE. \\x0c. \\n',\n",
       " \"25,image120.jpg,WE UNDRESSED EACH OTHERS MINDS, OUR TASTES ENTWINED, OUR DARKNESS CONSUMED EACH OTHER, OUR FANTASIES AND DREAMS MADE EACH OTHER'S BRAIN CUM. AND FINALLY THERE WE STOOD FULLY CLOTHED, YET SO NAKED TO OUR EYES ALONE. \\x0c. \\n\",\n",
       " '26,image121.jpg,WHEN MAN REALIZED HE CANNOT BE GOD, HE CAME UP WITH THE NEXT BEST THING, RELIGION. \\x0c. \\n',\n",
       " '27,image122.jpg,I THINK PEOPLE ARE THE MOST BEAUTIFUL, WHEN THEY FLASH A SMILE EVEN WITH TEARS IN THEIR EYES. BE IT TEARS OF JOY OR GRIEF, THE CONTRAST OF TWO HUMAN EMOTIONS, ON A FACIAL CANVAS, IS THE MOST BEAUTIFUL. \\x0c. \\n',\n",
       " \"28,image123.jpg,TILL DEATH DO US PART, THEY VOWED TO EACH OTHER. AND THEN LIVED A LIFE WAITING FOR DEATH TO DO IT'S PART. \\x0c. \\n\",\n",
       " '29,image124.jpg,HE WAS HER CROWN AND SHE WAS HIS BEAUTY QUEEN. \\x0c. \\n',\n",
       " '30,image125.jpg,I LOVED AND LOVED TILL IT HURT, AND THEN FINALLY, LOVED THE WAY IT HURT. \\x0c. \\n',\n",
       " \"31,image126.jpg,THERE IS BEAUTY THAT HAS ALWAYS BEEN BEAUTIFUL. BUT THEN THERE'S HER, THE BEAUTY ONLY FEW SEE. AND THE ONES THAT DO SEE, FELL HOPELESSLY IN LOVE WITH HER \\x0c. \\n\",\n",
       " '32,image127.jpg,THE IS NO WIN, THERE IS NO LOSS. JUST THE FIGHT. THE FIGHT THAT ENSURES BALANCE BETWEEN THE GOOD AND THE EVIL. THE FIGHT THAT REMINDS US THAT THOUGH WE LOSE SOME AND WE WIN SOME, THERE IS ALWAYS HOPE.\\x0c. \\n',\n",
       " '33,image128.jpg,THERE ARE THOSE BAYS WHEN EVEN THE SILENCE WONT BE MY COMPANY. ABANDONED BY MY LAST RESORT, MY ONLY RESORT. I REACH OUT TO HER. I REACH OUT TO THE ONLY BEATING HEART THAT WILL LISTEN AND SYMPATHIZE. BUT ALAS, THAT HEART WAS ONLY HUMAN. \\x0c. \\n',\n",
       " \"34,image129.jpg,UNRAVEL HER DEMONS, AND SHOW HER WHO'S IN CHARGE. \\x0c. \\n\",\n",
       " '35,image13.jpg,WE LEARNT THE GAME TOGETHER, AND YET SOMEHOW WHEN I DEALT YOU MY HEART YOURS STAYED AT THE SLEEVE, WHILE MINE WAS LEFT TO BLEED. \\x0c. \\n',\n",
       " '36,image130.jpg,SHE HATED ME WITH THE KIND OF HATRED, THAT BLED WITH LOVE. \\x0c. \\n',\n",
       " '37,image131.jpg,I MARK MY TERRITORY EVERY TIME SHE WETS HER PANTIES WITH PRECUM. \\x0c. \\n',\n",
       " \"38,image132.jpg,THE ONLY TIME WE ACKNOWLEDGE OUR HUMANITY, IS WHEN WE'VE COMPLETELY LOST IT. \\x0c. \\n\",\n",
       " '39,image133.jpg,I SEE TEARS THAT SPEAK OF MIRACLES, I SEE KNEES THAT REFUSE TO STAND UNTIL GRANTED FORGIVENESS, I SEE HANDS THAT STAY CLASPED, PRAYING FOR HEALING. I WANT TO BELIEVE, I WANT TO BELEIVE, I WANT TO BELEIVE. \\x0c. \\n',\n",
       " '40,image134.jpg,I SAW HER NAKED SOUL, HER THOUGHTS WERE CORRUPT. BUT HER ESSENCE, PURE. I SAW HER NAKED SOUL, HER DREAMS WERE WILD. BUT HER DRIVE, UNSTOPPABLE. I SAW HER NAKED SOUL, HER ANGER WAS SCORCHING. BUT HER LOVE, PURE COCAINE. I SAW HER NAKED SOUL, I FELL FOR HER NAKED SOUL. \\x0c. \\n',\n",
       " '41,image135.jpg,YOU WERE THE POETRY THAT NEVER MADE IT TO PAPER. \\x0c. \\n',\n",
       " '42,image136.jpg,LIFE GOES ON, STOPPING FOR NO ONE, GIVING ME OPPORTUNITIES TO SWIM OUT OF THIS SORROW THAT HAS ENGULFED ME FROM WITHIN. BUT I STAY DEEP UNDER, FOR THIS PAIN IS FAMILIAR, THIS PAIN IS HOME, THIS PAIN IS YOU, THIS PAIN IS LOVE THAT I ONCE FELT. \\x0c. \\n',\n",
       " '43,image137.jpg,WHAT IS A MAN TO DO WHEN HE REALISES HIS PARADISE LOST, WAS NO PARADISE AT ALL. \\x0c. \\n',\n",
       " '44,image138.jpg,AND WHEN WE BOTH THREW AWAY OUR SHIELDS AND SWORD, I WAS STRUCK BY A DAGGER. \\x0c. \\n',\n",
       " '45,image139.jpg,AS WE BEGAN TO WALK AWAY FROM EACH OTHER, I PULLED HER BY HER WRISTS, NOT LONGING FOR A LAST TOUCH, NOT LONGING FOR ONE LAST KISS, BUT TO ASK HER FOR MY HEART BACK. \\x0c.\\n',\n",
       " '46,image14.jpg,LOVE IS ENERGY, THAT NEVER FADES AWAY. IT JUST DRIVES YOU DIFFERENTLY IN TIME. \\x0c. \\n',\n",
       " '47,image140.jpg,SHE THREW MY HEART BACK TO ME. AND I TORE IT TO PIECES. I PUNCTURED ITS ATRIUM WITH MY FINGERS AND THREW IT TO A DIRECTION I DID NOT SEE. I SMILED AT HER WITH BLOOD DRIPPING DOWN MY CHIN. THANK YOU FOR THE GIFT OF IMMORTALITY. \\x0c. \\n',\n",
       " \"48,image141.jpg,EVERY TIME I TRY TO BREATHE MY LUNGS ARE ONLY HALF FULL. EVERY TIME I TAKE A STEP, MY CALVES FEEL HEAVY. EVERY TIME I THINK OF YOU, MY HEART SLOWS. EVERY TIME I'M REMINDED THAT YOURE NOT MINE, I DETERIORATE. \\x0c. \\n\",\n",
       " '49,image142.jpg,SHE OPENED HER LEGS WIDER, AND I BURIED MY SORROWS DEEP INSIDE HER, SHE WAS WARM, SHE WAS FIRE. \\x0c. \\n',\n",
       " '50,image143.jpg,LOVE IS THE ONLY DRUG THAT WE ALL DO NO MATTER HOW MANY WARNINGS WERE GIVEN. \\x0c. \\n',\n",
       " '51,image144.jpg,SHE COULD MAKE A WRITER FEEL AT A LOSS FOR WORDS SHiIBIN JUDAH PAUL\\x0c. \\n',\n",
       " '52,image145.jpg,LET YOUR SCARS HEAL YOU, LET YOUR DREAMS WAKE YOU, LET YOUR MONSTERS CHASE YOU, BUT NEVER EVER BREAK YOU. \\x0c. \\n',\n",
       " '53,image146.jpg,SHE LEFT A SCAR ON MY FOREARM, YOU LEFT A SCAR ON MY MIND. I HIDE MY SCAR WITH MY WATCH, I HIDE YOURS WITH A SMILE. \\x0c. \\n',\n",
       " '55,image148.jpg,I TELL HER WE SHOULD STOP DOING THIS. SHE SLAPS ME HARD. SHE TRIES TO RUN AWAY, SEEING MY STILL FACE. I GRAB HER AND THROW HER AGAINST THE WALL. I BIT HER LIPS, SINKING MY TEETH DEEP, AND PULLED. SHE SLAPS ME AGAIN. I TURN HER AROUND AND PULL DOWN HER PANTIES, ENOUGH TO EXPOSE WHAT I WANT. I FUCK HER LIKE A MAD MAN, ALL THE WHILE WONDERING WHG6 IS IN CONTROL OF WHOM. \\x0c. \\n',\n",
       " '56,image149.jpg,SILENCE. JUST PURE SILENCE. NO MUSIC OF THE TELEVISION PLAYING IN THE DISTANCE. NO LAUGHTER. NO SMIRKS. NO SMILES.NO SOUND OF UTENSILS CLINKING. NO SOUND OF FOOTSTEPS. NO SOUND OF VEHICLES HONKING. NO SOUNDS OF DOGS BARKING. NO SOUNDS OF BIRDS CHIRPING. NO SOUNDS OF THE FANS SPINNING. NO SOUNDS OF DOORS OPENING. NO SOUNDS. NO VOICES. NOTHING. JUST. PURE. SILENCE. \\x0c. \\n',\n",
       " '57,image15.jpg,I WONDER ABOUT YOU EVERYDAY, AND EVERYDAY I ALLOW THIS PAIN, BECAUSE THIS PAIN IS YOU, AND YOU ARE ALL I EVER WANTED. \\x0c. \\n',\n",
       " '58,image150.jpg,MY LAP HER THRONE. MY BONES AND FLESH, HER JEWELS. MY ARMS, HER SWORD AND SHIELD. MY HEART, HER KINGDOM. \\x0c. \\n',\n",
       " '59,image151.jpg,SHE SMILED. THE MORNING DEW ON HER THICK PATCH GLISTENED. SHE WAS MINE, WHEN MY HEART WASNT. \\x0c. \\n',\n",
       " '61,image153.jpg,IT STARTED OUT LIKE DESTINY, BUT ENDED LIKE A BLOODY MESS, WE BOTH REFUSED TO CLEAN. \\x0c. \\n',\n",
       " '62,image154.jpg,IT STARTED OUT WITH A TOUCH OF DESTINY, BUT ENDED WITH A KISS OF REALITY. \\x0c. \\n',\n",
       " '63,image155.jpg,LEAVE! ALS FOR A REASON \\x0c. \\n',\n",
       " '64,image156.jpg,THE VALLEY ALONG HER SPINE, THE DIMPLES ABOVE HER ARSE, THE JIGGLE IN HER BELLY, THE MUSK BETWEEN HER THIGHS, THESE ARE THE REASONS THAT BLUR THE LINE BETWEEN LUST AND LOVE. \\x0c. \\n',\n",
       " '65,image157.jpg,SHE CAME IN TO MY BED OF THORNS, AND TOGETHER, WE MADE IT OUR BED OF SINS. \\x0c. \\n',\n",
       " '66,image158.jpg,AND THEN I REALIZED, SHE WAS NEVER THE MUSE, IT WAS THE HEARTBREAKS SHE CAUSED. \\x0c. \\n',\n",
       " '67,image159.jpg,SHE BUILT THE SACRED OF ALL PROMISES, AND BROKE THEM WITH SUCH GRACE, LIKE ONLY SHE COULD. \\x0c. \\n',\n",
       " '68,image16.jpg,ONLY YOU COULD BREAK MY HEART TO SMITHEREENS, AND STILL LEAVE IT BEATING FOR YOU. \\x0c. \\n',\n",
       " '69,image160.jpg,I WILL KEEP DENYING HER MY LOVE, UNTIL SHE CANT LOVE ME NO MORE. AND THEN LOVE WITHOUT WORRY, BECAUSE SHE CANT HURT ME NO MORE. \\x0c. \\n',\n",
       " '70,image161.jpg,I SEE HER HEART BEAT, THE WAY HER HAIR FLUTTERS IN THE AIR, THE WAY HER BREASTS RIPPLE WITH EVERY THRUST, THE WAY SHE QUICKLY BITES DRY SKIN OFF HER LIPS, THE WAY SHE SHAKES HER HEAD TO AND FRO WHEN I MAKE HER SMILE, I SEE HER HEART BEAT. \\x0c. \\n',\n",
       " '71,image162.jpg,WHY DO WE ALL PRETEND THAT WE CAN LOVE AND FORGET? \\x0c. \\n',\n",
       " '72,image163.jpg,THE TRUTH IS, THERE IS NO GOOD OR EVIL, JUST US HUMAN BEINGS TRYING TO SURVIVE. \\x0c.\\n',\n",
       " '73,image164.jpg,AND WHEN I SAW HER, I KNEW, SHE WAS EVERY BIT OF CHOAS THAT HAS BEEN MISSING IN MY LIFE. \\x0c. \\n',\n",
       " '74,image165.jpg,SHE STRIPPED HER SOUL, AND FOLDED IT INTO FOUR, SHE GAVE ME HER WHOLE, SHE GAVE ME HER SOUL. \\x0c. \\n',\n",
       " '75,image166.jpg,TIME CHANGES GOLD TO RUST, AND SEQUINS TO DIAMONDS. \\x0c. \\n',\n",
       " \"76,image167.jpg,DO YOU SEE THAT? THATS LIFE LITERALLY SPREADING HER LEGS WAITING FOR YOU TO PLUNGE FORTH AND MAKE HER CUM. BECAUSE TOO MANY PEOPLE ARE SCARED. TOO MANY PEOPLE ARE AFRAID TO TAKE A STEP FORWARD. THIS IS YOUR CHANCE. THERE'S NO COMPETITION FOR YOU NOW. ITS JUST LITERALLY RIGHT THERE. GRAB IT. \\x0c. \\n\",\n",
       " '77,image168.jpg,LOVE IS JUST MENTAL IMAGE SCARS IN THE BACK OF YOUR CRANIUM, LEFT TO STING EVERY TIME YOU GO BACK TO SEE IF IT STILL HURTS. \\x0c. \\n',\n",
       " '78,image169.jpg,SHE WAS ONE OF THE DEMONS I TRIED TO TURN INTO AN ANGEL WITH MY WORDS, BUT NO MATTER HOW MUCH I POURED MY SOUL 6UT, SHE ONLY WANTED MORE. \\x0c. \\n',\n",
       " '79,image17.jpg,ALL THESE BROKEN BREAMS AND WHAT COULD HAVE BEENS, THEY HAUNT AND TAUNT ALL NIGHT LONG. PICTURES, MOVIES AND EVERY BLOODY SONG, SENDS A WISP OF AIR THROUGH THE PILE OF DEAD BUTTERFLIES IN MY CORE. THEY FLUTTER WITH THEIR WRINKLED AND BROKEN WINGS, THEY SWING, DANCE AND THEN COME CRASHING DOWN, JUST LIKE WE DID, AT THE BREAK OF DAWN. \\x0c. \\n',\n",
       " '80,image170.jpg,SHE HEALED MY SCARS WITH HER KISSES, QUENCHED MY THIRST WITH HER EJACULATE, MENDED MY PRIDE WITH WITH HER PASSION, TOOK ME TO HER BED AND MADE IT OUR HOME. SHE DID ALL THIS AND MORE, BUT THIS BROKEN HEART WILL NEVER BEAT AGAIN. \\x0c. \\n',\n",
       " '81,image171.jpg,LOVERS ARE WARRIORS WHO DISROBE THEIR SUITS OF ARMOR, AFTER HANDING EACH OTHER THEIR BEATING HEARTS. \\x0c. \\n',\n",
       " '82,image172.jpg,LOOK AT HER, I SWEAR ONE BAY SHE IS GOING TO LIFT THE WHOLE WORLD OFF ITS AXIS AND USE IT AS HER STEPPING STONE. \\x0c. \\n',\n",
       " '83,image173.jpg,OUR BED STUNK OF SWEAT, BLOOD, AND CUM, OUR BODIES STUNK OF EACH OTHER, AND OUR SOULS POISONED WITH THE PROMISE OF ETERNAL LOVE. \\x0c. \\n',\n",
       " '84,image18.jpg,THESE SCARS, THESE SCARS WILL ONE DAY HEAL, AND BECOME THE WOUNDS THAT WILL ONE DAY SPEAK, OF THE LOVE THAT NEVER MADE ME REGRET, BUT OF A LOVE THAT MADE ME CONTENT. \\x0c. \\n',\n",
       " '85,image19.jpg,THE HARDEST PART OF IT ALL, IS TO FORGET ALL THAT MAGIC. TO UNDO EVERY LAST BIT OF IT, ALL BY MYSELF. \\x0c. \\n',\n",
       " '86,image2.jpg,ILL APPOLOGIZE, WHEN THE VOICES IN MY HEAD STOP COMING UP WITH REASONS TO LOVE AND HATE YeU AT THE SAME TIME. \\x0c. \\n',\n",
       " '87,image20.jpg,YOU ARE THE MUSIC THAT I KEEP BUT NEVER LISTEN TO, YOU ARE THE PICTURES THAT I KEEP BUT NEVER BURN, YOU ARE THE PATHS, THE MEMORIES, THE THOUGHTS, THAT I DARE NOT TREAD INTO, YOU ARE, YOU ARE, YOU ARE THE LOVE OF MY LIFE, THOUGH I BARELY LIVE WITHOUT YOU. \\x0c. \\n',\n",
       " '88,image21.jpg,YOU WERE NEVER THE MISSING PIECE, YOU WERE THE FRAME. \\x0c. \\n',\n",
       " '89,image22.jpg,IF I KISSED YOU NeW, YOUR LIPS WOULD BLEED, IF I HUGGED YOU NOW, YOUR BONES WOULD CRACK, IF I CARRESED YOUR SKIN, Il LEAVE YOU BLUE AND BLACK. MAYBE THIS IS LOVE, MAYBE THIS IS HATE, OR MAYBE, THIS LOVE IS NOW LACED WITH HATE. \\x0c. \\n',\n",
       " '90,image23.jpg,\\x0c. \\n',\n",
       " '91,image24.jpg,IN THIS ABYSS, THERE YOU STAND, SURVIVING. IN THIS ABYSS, HERE I AM, DROWNING. IN THIS ABYSS, TOGETHER, WE ARE, LOST. \\x0c. \\n',\n",
       " '92,image25.jpg,OH, CURSE THE GODS, FOR MAKING YOU FEEL LIKE DESTINY, LIKE A SYMPHONY ORCHESTRATED BY MY VERY OWN CRUMBLING HEART. GH, CURSE THE GODS. \\x0c. \\n',\n",
       " '93,image26.jpg,YOU LIE, YOU LIE, EVERY 24TH OF JULY, THAT YOU DO NOT LOVE ME ANYMORE. I LIE, I LIE, EVERY 24TH OF JULY, AWAKE, AND IN LOVE WITH A FACE I DO NOT SEE ANYMORE. \\x0c. \\n',\n",
       " '94,image27.jpg,I AM SORRY. I LOVED HER A LITTLE TOOO MUCH. THIS IS ALL I HAVE LEFT. TAKE IT. PLEASE. \\x0c. \\n',\n",
       " '95,image28.jpg,RED EYES, WITH A SULPHUR BURN, CRANIUM HURTS, WITH EVERY TURN. YOU ARE MY CURE, YOUR LOVE AND YOUR INNOCENCE PURE. YOU ARE MY CURE, YOUR EYES AND YOUR DEVILISH ALLURE. \\x0c. \\n',\n",
       " '96,image29.jpg,THOSE FLAGS WERE RED, AND MY LIPS BLED. I WANT TO SAY I LOVE YOU, BUT CANT MEAN IT TOO. \\x0c. \\n',\n",
       " '97,image3.jpg,OUR CHILDHOODS ENTWINED, SHE WAS THE MOTHER I NEVER HAD, WHILE I WAS THE BROTHER SHE NEVER HAD. AND WHEN WE FUCKED, THE GODS SENT DOWN TORRENTS OF RAIN. \\x0c. \\n',\n",
       " '98,image30.jpg,SHE WAS A WILTED ROSE, WITH ONLY A REBISH INSIDE. SHE SCREAMED OF SHARP THORNS, READY TO PRICK. BUT ALL THE WHILE YEARNING FOR SOMEONE TO DARE, KISS. SHE WAS A WILTED ROSE, NOW, WITH A REDISH OUTSIDE. \\x0c. \\n',\n",
       " '99,image31.jpg,I DRANK YOUR MEMORIES LAST NIGHT, IT WAS AN INFINITE VASE, POURING SEA WATER DOWN MY THROAT, MAKING ITS WAY TO THE BACK OF MY GUT, CURLING THE CIRCUMFERENCE 6OF IT, SENDING COLD SHIVERS RIGHT TO MY DAMN SPINE. I DO THIS EVERY NIGHT. I DO THIS EVERY NIGHT. I DO THIS EVERY NIGHT. \\x0c. \\n',\n",
       " '100,image32.jpg,Pain is the only realest feeling in this world. We measure coldness only by the absence of heat. Darkness by the absence of light. Silence by the absence of sound. And thus happiness by the absence of pain. - -\\x0c. \\n',\n",
       " \"101,image33.jpg,THE LIGHT WHEN OTHERS GO FORWARD WITH THEIR DREAMS THE DARKNESS PUT IN THEM. I FEEL ALIENATED. I FEEL PITY FOR THESE BEINGS. SO SIMPLE AND FRAIL. FOR THEY KNOW NOT THE TRICKERY OF THE NIGHT. THE COLD. THE CREPUSCULE. WITH ITS TWILIGHT SMILE. SEDUCES THEM AND AVENGES FOR THEIR IGNORANCE OVER HER BEAUTY. AND THUS AS THE VILLAINOUS DARKNESS' SOLE COMPANION. I PREACH, CARPE NOCTEM.\\x0c. \\n\",\n",
       " '102,image34.jpg,I CLUTCHED HER HAIR, AND PULLED HER HEAD BACK WARDS EXPOSING HER NAKED NECK AND OPEN MOUTH GASPING FOR AIR. I LET MY FINGERS SLITHER AROUND HER NECK AND CHOKED HER WITH MY KISSES. AND SHE GAVE UP, SHE GAVE IT ALL UP. \\x0c. \\n',\n",
       " '103,image35.jpg,THE THOUGHT OF YOUR HEAVING CHEST, KNOCKED THE AIR OUT OF MINE. SHiIBIN JUDAH PAUL\\x0c. \\n',\n",
       " '104,image36.jpg,AS I RAN MY FINGERS THROUGH YOUR BODY, I FELT MY HEART BEAT RISE AND DROP ALONG YOUR CURVES. SHiIBIN JUDAH PAUL\\x0c. \\n',\n",
       " '105,image37.jpg,I LOVED AND LOVED TILL IT HURT, AND THEN FINALLY, LOVED THE WAY IT HURT. SHiIBiIN JUDAH PAUL\\x0c. \\n',\n",
       " '106,image38.jpg,I CLUTCHED HER HAIR AND PULLED HER HEAD BACK WARDS EXPOSING HER NAKED NECK AND OPEN MOUTH GASPING FOR AIR. I LET MY FINGERS SLITHER AROUND HER NECK AND CHOKED HER WITH MY KISSES. SHE GAVE UP, SHE GAVE IT ALL UP. \\x0c. \\n',\n",
       " '107,image39.jpg,I WROTE HER NAME, AND IT WAS POETRY. \\x0c. \\n',\n",
       " '108,image4.jpg,HER LIPS ARE LIKE PUNCTUATION IN THE POETRY THAT IS HER BODY. \\x0c. \\n',\n",
       " '109,image40.jpg,WE SHARED THE KIND OF LOVE THAT MADE ME WANT TO EXPLORE EVERY CREVICE N YOUR BODY WITH MY BARE TONGUE. \\x0c. \\n',\n",
       " \"110,image41.jpg,WITH A HEART THAT IS BROKEN BEYOND REPAIR, I'VE REACHED A POINT WHERE EACH OF THE PIECES HAVE STARTED ACTING ON THEIR OWN, THEY FALL IN LOVE TOGETHER OR ALTERNATIVELY. THEY FREE FALL OR THEY BONT FALL. THEY FALL IN LOVE WITH GLASSES, THEY FALL IN LOVE WITH BRACES, THEY FALL IN LOVE WITH PRETY RED LIPS, THEY FALL IN LOVE WITH THE DEVIL WEARING GRACIOUS FACES. DEAR LORD, SAVE ME FROM THIS PAIN, SAVE ME FROM THIS FEAR OF BREAKING ANOTHER HEART AND PASSING THIS CURSE ON, LIKE IT WAS PASSED ON TO ME. \\x0c. \\n\",\n",
       " '111,image42.jpg,SHE CRAVED FOR LUST FROM STRANGERS, TO MAKE UP FOR THE HER LOST CROWN, ADORNED WITH HIS LOVE. \\x0c. \\n',\n",
       " '112,image43.jpg,HER BODY MAKES ME INHALE FAST AND EXHALE SLOWLY. \\x0c. \\n',\n",
       " '113,image44.jpg,MY LUST FOR YOU IS CODED BY THE GODS IN MY DNA. \\x0c. \\n',\n",
       " '114,image45.jpg,HE POINTS A GUN WITH A SINGLE BULLET TO HIS HEAD, AND PULLS THE TRIGGER. SHE LOVES ME. SHE LOVES ME NOT. SHE LOVES ME. SHE LOVES ME NOT. SHE LOVES ME. AND BANG GOES THE BULLET. DOWN FALLS THE MAN DEEP INTO A BLISSFUL OBLIVION. \\x0c. \\n',\n",
       " '115,image46.jpg,THE PINK IN HER PIMPLES, THE PINK IN HER LIPS, THE PINK IN HER NIPPLES, THE PINK IN HER CUNT, SHE WAS A BOUQUET OF WILD ROSES, AND THE ONLY THORNS IN HER WERE MINE.\\x0c. \\n',\n",
       " \"116,image47.jpg,IS THERE A GOD? IS PRAYER MORE THAN JUST SELF AFFIRMATION? DOING GOOD KEEPS YOU SAFE, GETS YOU A GOOD NAME, KEEPS YOU OUT OF JAIL. BUT HOW MANY DO IT JUST TO ESCAPE HELL RATHER THAN FOR THE SAKE OF GOODNESS? ARE RELIGION AND GOD DIFFERENT ENTITIES ALL TOGETHER? WHY IS GOOD ALWAYS ACCREDITED TO GOD AND THE BAD TO THE DEVIL? AND ALSO SOMETIMES THE BAD IS ALSO FROM GOD, BUT THIS TIME AS PUNISHMENT? HOW CAN YOU BELIEVE IN RELIGION WHEN ALL IT ASKS IN RETURN IS BLIND FAITH? WHAT IF YOU REALISE YOU'VE LIVED A SINFUL OR JUST A BORING LIFE WAY TOO LATE IN LIFE? WILL HEAVEN OR HELL STILL GIVE WHAT YOU DESERVE? SOME SEE A SERIES OF QUESTIONS, SOME SEE A SERIES OF ANSWERS. BUT WHAT'S IMPORTANT IS THAT YOU CHOSE TO SEE. \\x0c. \\n\",\n",
       " '117,image48.jpg,IT WAS LIKE TWO LOVERS FRANTICALLY UNDRESSING EACH OTHER TO GET TO THE NAKED SKIN AND TIGHTLY EMBRACING BEFORE CONSUMING ONE ANOTHER. BUT WE WENT A STEP FURTHER UNDRESSING EACH OTHERS LAYERS AND EMBRACED OUR SOULS, MAKING OUR MINDS CUM. \\x0c. \\n',\n",
       " '118,image49.jpg,BABY, SHE WAS JUST DETOX. YOU ARE MY FAVORITE DRUG. \\x0c. \\n',\n",
       " '119,image5.jpg,WE FEAR THE DARKNESS, FOR WE ARE UNSURE OF ITS ENTIRETY. WE FEAR THE BEASTS FOR ITS SHARP CLAWS AND IGNORE ITS VULNERABILITY. WE FEAR THE GIANT FOR HIS SIZE AND IGNORE HIS IMMGBILITY. AND WHEN YOU REALIZE FEAR IS JUST A CONCEPT CONCOCTED BY YOUR OWN MIND, YOU ARE FREE. \\x0c. \\n',\n",
       " \"120,image50.jpg,CURSED WITH A MADMAN'S HEART THAT WILL LOVE TOO EASILY, AND HATE TOO FURIOUSLY, I SAW HER, AND THEN BURST INTO FLAMES. \\x0c. \\n\",\n",
       " '121,image51.jpg,I SEDUCED THE ANGEL OF DEATH, SHE KILLS ME EVERY DAY, AND I LOVE IT. \\x0c. \\n',\n",
       " \"122,image52.jpg,HE'S THE GUN HAT I POINT TO MY HEAD VERY DAY. PULL THE TRIGGER AND OUT SPEWS POETRY. \\x0c. \\n\",\n",
       " \"123,image53.jpg,ASHES TO ASHES. DUST TO DUST. WHEO ELSE WILL I LOVE, WHO ELSE WILL I TRUST. ASHES TO ASHES. DUST TO BUST. EVERY TIME I BREAK IT, IT ONLY GETS STRONGER, BOTH YOUR LOVE AND TRUST. ASHES TO ASHES. DUST TO DUST. SAVE ME FROM THIS PAIN, OR LET ME BITE THE BUST. ASHES TO ASHES. DUST TO DUST. IM A CRAZY MOTHERFUCKER, WHOM YOU SHOULD NEVER TRUST. ASHES TO ASHES. DUST TO BUST. BUT YOURE A CRAZY LITTLE BITCH, NO WONDER IT'S ME YOU TRUST. \\x0c. \\n\",\n",
       " '124,image54.jpg,SHE OWNED MY VOCABULARY, SAVED THE BEST FOR HERSELF, AND THE REST WAS POETRY FOR THE WORLD. \\x0c. \\n',\n",
       " \"125,image55.jpg,HERE LIES A MAN, WITH A HEART THAT'S PUMPED ITS LAST DROP OF BLOOD. A LIVER THAT'S LASTED SEVERAL ROUNDS OF WHISKEY, A PAIR OF LUNGS THATS CONSUMED AND EXHALED ANYTHING THAT CAN BE SMOKED. A BRAIN THAT HAS CONCEIVED INTRICATE LIES TO MAKE AND BREAK HEARTS. HANDS THAT HAVE FOUGHT AND CARRESED. LEGS THAT OFTEN WALKED ALONE AND STUMBLED. ROD OF HIS MANHOOD THAT MADE LOVE, FUCKED AND FUCKED HARDER. HERE LIES A MAN THAT'S PROBABLY NOT GOING TO BE IN HEAVEN, BUT SHALL FOREVER RULE IN HELL. \\x0c. \\n\",\n",
       " \"126,image56.jpg,WE CAME FROM BROKEN FAMILIES, LEAVING US WITH STAGNANT CHILDHOGOD DESIRES, WE ACHED FOR LOVE IN ALL THE WRONG PLACES, AND IGNORED THE VANILLA. THAT'S WHY I'M HER HOME , AND SHE IS MY PARADISE. THAT'S WHY I'M HER DADDY, AND SHE IS MY BABY GIRL. \\x0c. \\n\",\n",
       " '127,image57.jpg,WHAT DO YOU DO WHEN THE HAND THAT ROCKED THE CRADLE, IS NOW GRIPPED AROUND YOUR THROAT? WHAT DO YOU DO WHEN THE HAND THAT FED YOU, IS NOW TAKING AWAY WHATS ON YOUR PLATE? WHAT DO YOU DO WHEN THE HANDS THAT HELPED YOU BUILD YOUR FIRST SAND CASTLE, ARE NOW SHATTERING YOURS? DO YOU FIGHT BACK? OR DO YOU LET GO? \\x0c. \\n',\n",
       " \"128,image58.jpg,WE UNDRESSED EACH OTHERS MINDS, OUR TASTES ENTWINED, OUR DARKNESS CONSUMED EACH OTHER, OUR FANTASIES AND DREAMS MADE EACH OTHER'S BRAIN CUM. AND FINALLY THERE WE STOOD FULLY CLOTHED, YET SO NAKED TO OUR EYES ALONE. \\x0c. \\n\",\n",
       " '129,image59.jpg,WHEN MAN REALIZED HE CANNOT BE GOD, HE CAME UP WITH THE NEXT BEST THING, RELIGION. \\x0c. \\n',\n",
       " \"130,image6.jpg,ITS GOING TO HAPPEN. I CAN FEEL IT. I'M LOSING MY GRIP, IMAGES SLOW AND GET SUCKED INTO MY PERIPHERAL VISION. I'M LOSING MOMENTUM, THE CENTRIFUGAL FORCE LOWERS, MY FRONT WHEEL BEGINS TO WOBBLE. AND THEN I KISS THE TARMAC, SLIDING ACROSS UNTIL FINALLY MY HEART STOPS BEATING, RESTING FOREVER. \\x0c. \\n\",\n",
       " '131,image60.jpg,WHAT DO YOU DO WHEN THE HAND THAT ROCKED THE CRADLE, IS NOW GRIPPED AROUND YOUR THROAT? WHAT DO YOU DO WHEN THE HAND THAT FED YOU, IS NOW TAKING AWAY WHATS ON YOUR PLATE? WHAT DO YOU DO WHEN THE HANDS THAT HELPED YOU BUILD YOUR FIRST SAND CASTLE, ARE NOW SHATTERING YOUR HOME? DO YOU FIGHT BACK? OR DO YOU LET GO? \\x0c. \\n',\n",
       " '132,image61.jpg,WE FEAR THE DARKNESS, FOR WE ARE UNSURE OF ITS ENTIRETY. WE FEAR THE BEASTS FOR ITS SHARP CLAWS AND IGNORE ITS VULNERABILITY. WE FEAR THE GIANT FOR HIS SIZE AND IGNORE HIS IMMOBILITY. AND WHEN YOU REALIZE FEAR IS JUST A CONCEPT CONCOCTED BY YOUR OWN MIND, YOU ARE FREE. \\x0c. \\n',\n",
       " '133,image62.jpg,I CLUTCHED HER HAIR, AND PULLED HER HEAD BACK WARDS EXPOSING HER NAKED NECK AND OPEN MOUTH GASPING FOR AIR. I LET MY FINGERS SLITHER AROUND HER NECK AND CHOKED HER WITH MY KISSES. AND SHE GAVE UP, SHE GAVE IT ALL UP. \\x0c. \\n',\n",
       " '134,image63.jpg,SHE CRAVED FOR LUST FROM STRANGERS, TO MAKE UP FOR THE HER LOST CROWN, ADORNED WITH HIS LOVE. \\x0c. \\n',\n",
       " '135,image64.jpg,HE HAD THEM BOTH, GOD AND THE DEVIL COMPLEX. \\x0c. \\n',\n",
       " '136,image65.jpg,I FALL FOR THE LOUD. NOT BY WORDS, BUT LOUD BY ACTIONS. \\x0c.  \\n',\n",
       " '138,image67.jpg,IT WAS LIKE TWO LOVERS FRANTICALLY UNDRESSING EACH OTHER TO GET TO THE NAKED SKIN AND TIGHTLY EMBRACING BEFORE CONSUMING ONE ANOTHER. BUT WE WENT A STEP FURTHER UNDRESSING EACH OTHERS LAYERS AND EMBRACED OUR SOULS, MAKING OUR MINDS CUM. \\x0c. \\n',\n",
       " \"139,image68.jpg,CURSED WITH A MADMAN'S HEART THAT WILL LOVE TOO EASILY, AND HATE TOO FURIOUSLY, I SAW HER, AND THEN BURST INTO FLAMES. \\x0c. \\n\",\n",
       " '140,image69.jpg,WHAT DO YOU DO WHEN THE HAND THAT ROCKED THE CRADLE, IS NOW GRIPPED AROUND YOUR THROAT? WHAT DO YOU DO WHEN THE HAND THAT FED YOU, IS NOW TAKING AWAY WHATS ON YOUR PLATE? WHAT DO YOU DO WHEN THE HANDS THAT HELPED YOU BUILD YOUR FIRST SAND CASTLE, ARE NOW SHATTERING YOUR HOME? DO YOU FIGHT BACK? OR DO YOU LET GO? \\x0c. \\n',\n",
       " '141,image7.jpg,SHE WISHED I WAS A PAINTER WHO PAINTED HER NAKED, RATHER THAN A POET WHO PUBLISHED HER SOUL TO THE WHOLE WORLD. \\x0c. \\n',\n",
       " '142,image70.jpg,HER EYES GLISTENED, STILL, WITH THE FEAR OF SHEDDING THE TEAR AT BAY. EVERYTHING STOPPED, EVERYTHING SLOWED. AND THEN FINALLY, HE TURNED AROUND TO LEAVE, SHE BLINKED. \\x0c. \\n',\n",
       " '143,image71.jpg,I THINK PEOPLE ARE THE MOST BEAUTIFUL, WHEN THEY FLASH A SMILE EVEN WITH TEARS IN THEIR EYES. BE IT TEARS OF JOY OR GRIEF, THE CONTRAST OF TWO HUMAN EMOTIONS, ON A FACIAL CANVAS, IS THE MOST BEAUTIFUL. \\x0c. \\n',\n",
       " \"144,image72.jpg,TILL DEATH DO US PART, THEY VOWED TO EACH OTHER. AND THEN LIVED A LIFE WAITING FOR DEATH TO DO IT'S PART. \\x0c. \\n\",\n",
       " \"145,image73.jpg,THERE IS BEAUTY THAT HAS ALWAYS BEEN BEAUTIFUL. BUT THEN THERE'S HER, THE BEAUTY ONLY FEW SEE. AND THE ONES THAT DO SEE, FELL HOPELESSLY IN LOVE WITH HER \\x0c. \\n\",\n",
       " '146,image74.jpg,THERE ARE NO HAPPY ENDINGS, JUST A GIRL WORTH FIGHTING FOR. \\x0c. \\n',\n",
       " '147,image75.jpg,THERE ARE THOSE BAYS WHEN EVEN THE SILENCE WONT BE MY COMPANY. ABANDONED BY MY LAST RESORT, MY ONLY RESORT. I REACH OUT TO HER. I REACH OUT TO THE ONLY BEATING HEART THAT WILL LISTEN AND SYMPATHIZE. BUT ALAS, THAT HEART WAS ONLY HUMAN. \\x0c. \\n',\n",
       " '148,image76.jpg,MY LOVE FOR YOU: DEMONIC. MY LUST FOR YOU: SATANIC. \\x0c. \\n',\n",
       " \"149,image77.jpg,UNRAVEL HER DEMONS, AND SHOW HER WHO'S IN CHARGE. \\x0c. \\n\",\n",
       " '150,image78.jpg,SHE HATED ME WITH THE KIND OF HATRED, THAT BLED WITH LOVE. \\x0c. \\n',\n",
       " '151,image79.jpg,I MARK MY TERRITORY EVERY TIME SHE WETS HER PANTIES WITH PRECUM. \\x0c. \\n',\n",
       " '152,image8.jpg,WE SPEND OUR LIVES RUNNING AWAY FROM OUR DEMONS, ONLY TO BECOME THEM IN THE END. \\x0c. \\n',\n",
       " \"153,image80.jpg,THE ONLY TIME WE ACKNOWLEDGE OUR HUMANITY, IS WHEN WE'VE COMPLETELY LOST IT. \\x0c. \\n\",\n",
       " '154,image81.jpg,I SEE TEARS THAT SPEAK OF MIRACLES, I SEE KNEES THAT REFUSE TO STAND UNTIL GRANTED FORGIVENESS, I SEE HANDS THAT STAY CLASPED, PRAYING FOR HEALING. I WANT TO BELIEVE, I WANT TO BELEIVE, I WANT TO BELEIVE. \\x0c. \\n',\n",
       " '155,image82.jpg,I WILL NO LONGER LET THIS MONSTER HURT YOU. I WILL GOUGE ITS EYES OUT, SEVERE ITS LIMBS, PUNCTURE ITS LUNGS AND RIP ITS HEART OUT. I WILL DO ALL THIS AND MORE. BUT IF YOURE STILL GOING TO LEAVE, ALL THAT WILL BE LEFT IN ME, IS A MONSTER WITHOUT A HEART WONDERING HOW IT COULD HAVE BEEN. \\x0c. \\n',\n",
       " '156,image83.jpg,I SAW HER NAKED SOUL, HER THOUGHTS WERE CORRUPT. BUT HER ESSENCE, PURE. I SAW HER NAKED SOUL, HER DREAMS WERE WILD. BUT HER DRIVE, UNSTOPPABLE. I SAW HER NAKED SOUL, HER ANGER WAS SCORCHING. BUT HER LOVE, PURE COCAINE. I SAW HER NAKED SOUL, I FELL FOR HER NAKED SOUL. \\x0c. \\n',\n",
       " '157,image84.jpg,YOU WERE THE POETRY THAT NEVER MADE IT TO PAPER. \\x0c. \\n',\n",
       " '158,image85.jpg,MORTALS PRAY, IMMORTALS LOVE. \\x0c. \\n',\n",
       " '159,image86.jpg,LIFE GOES ON, STOPPING FOR NO ONE, GIVING ME OPPORTUNITIES TO SWIM OUT OF THIS SORROW THAT HAS ENGULFED ME FROM WITHIN. BUT I STAY DEEP UNDER, FOR THIS PAIN IS FAMILIAR, THIS PAIN IS HOME, THIS PAIN IS YOU, THIS PAIN IS LOVE THAT I ONCE FELT. \\x0c. \\n',\n",
       " '160,image87.jpg,WHAT IS A MAN TO DO WHEN HE REALISES HIS PARADISE LOST, WAS NO PARADISE AT ALL. \\x0c. \\n',\n",
       " '161,image88.jpg,AS WE BEGAN TO WALK AWAY FROM EACH OTHER, I PULLED HER BY HER WRISTS, NOT LONGING FOR A LAST TOUCH, NOT LONGING FOR ONE LAST KISS, BUT TO ASK HER FOR MY HEART BACK. \\x0c. \\n',\n",
       " '162,image89.jpg,SHE THREW MY HEART BACK TO ME. AND I RIPPED IT TO SHREDS. I PUNCTURED ITS ATRIUM WITH MY FINGERS AND THREW IT TO A DIRECTION I DID NOT SEE. I SMILED AT HER WITH BLOOD DRIPPING DOWN MY CHIN. THANK YOU FOR THE GIFT OF IMMORTALITY. \\x0c. \\n',\n",
       " '163,image9.jpg,SHE BELIEVED IN MAGIC, SPELLS, AND POTIONS. BUT I BELIEVED IN NONE. I BELIEVED IN HER LOVE, HER KISS, AND HER LIPS. BUT SHE BELIEVED IN NONE. \\x0c. \\n',\n",
       " \"164,image90.jpg,EVERY TIME I TRY TO BREATHE MY LUNGS ARE ONLY HALF FULL. EVERY TIME I TAKE A STEP, MY CALVES FEEL HEAVY. EVERY TIME I THINK OF YOU, MY HEART SLOWS. EVERY TIME I'M REMINDED THAT YOURE NOT MINE, I DETERIORATE. \\x0c. \\n\",\n",
       " '165,image91.jpg,SHE OPENED HER LEGS WIDER, AND I BURIED MY SORROWS DEEP INSIDE HER, SHE WAS WARM, SHE WAS FIRE. \\x0c.\\n',\n",
       " '166,image92.jpg,ALL THESE MEMORIES, HeW COULD I EVER FORGET, FOR THEY ARE NOT TREASURED IN MY PREFRONTAL CORTEX, BUT ETCHED TO THE INSIDE OF MY CRANIUM. \\x0c. \\n',\n",
       " '167,image93.jpg,LOVE IS THE ONLY DRUG THAT WE ALL DO NO MATTER HOW MANY WARNINGS WERE GIVEN. \\x0c. \\n',\n",
       " '168,image94.jpg,LET YOUR SCARS HEAL YOU, LET YOUR DREAMS WAKE YOU, LET YOUR MONSTERS CHASE YOU, BUT NEVER EVER BREAK YOU. \\x0c. \\n',\n",
       " '169,image95.jpg,SHE LEFT A SCAR ON MY FOREARM, YOU LEFT A SCAR ON MY MIND. I HIDE MY SCAR WITH MY WATCH, I HIDE YOURS WITH A SMILE. \\x0c. \\n',\n",
       " '170,image96.jpg,I TELL HER WE SHOULD STOP DOING THIS. SHE SLAPS ME HARD. SHE TRIES TO RUN AWAY, SEEING MY STILL FACE. I GRAB HER AND THROW HER AGAINST THE WALL. I BIT HER LIPS, SINKING MY TEETH DEEP, AND PULLED. SHE SLAPS ME AGAIN. I TURN HER AROUND AND PULL DOWN HER PANTIES, ENOUGH TO EXPOSE WHAT I WANT. I FUCK HER LIKE A MAD MAN, ALL THE WHILE WONDERING WH6 IS IN CONTROL OF WHOM. \\x0c. \\n',\n",
       " '171,image97.jpg,SILENCE. JUST PURE SILENCE. NO MUSIC OF THE TELEVISION PLAYING IN THE DISTANCE. NO LAUGHTER. NO SMIRKS. NO SMILES.NO SOUND OF UTENSILS CLINKING. NO SOUND OF FOOTSTEPS. NO SOUND OF VEHICLES HONKING. NO SOUNDS OF BOGS BARKING. NO SOUNDS OF BIRDS CHIRPING. NO SOUNDS OF THE FANS SPINNING. NO SOUNDS OF DOORS OPENING. NO SOUNDS. NO VOICES. NOTHING. JUST. PURE. SILENCE. \\x0c. \\n',\n",
       " '172,image98.jpg,MY LAP HER THRONE. MY BONES AND FLESH, HER JEWELS. MY ARMS, HER SWORD AND SHIELD. MY HEART, HER KINGDOM. \\x0c. \\n',\n",
       " '173,image99.jpg,SHE SMILED. HER EJACULATE GLISTENED LIKE MORNING DEW ON HER THICK PATCH. SHE WAS MINE, WHEN MY HEART WASNT. \\x0c.']"
      ]
     },
     "execution_count": 15,
     "metadata": {},
     "output_type": "execute_result"
    }
   ],
   "source": [
    "poetry_df = pd.DataFrame."
   ]
  },
  {
   "cell_type": "code",
   "execution_count": 34,
   "id": "eb1d0706",
   "metadata": {},
   "outputs": [],
   "source": [
    "import re"
   ]
  },
  {
   "cell_type": "code",
   "execution_count": 5,
   "id": "a11806af",
   "metadata": {},
   "outputs": [],
   "source": [
    "\n",
    "f = open(targetPath,\"r\")\n",
    "poetry_list = f.readlines()\n",
    "p = []\n",
    "for i in range(len(poetry_list)):\n",
    "    if i !=0:\n",
    "        l = poetry_list[i].split(',',2)[2]\n",
    "        l = re.sub(\"[.,;?:\\n\\x0c]\",\"\",l)\n",
    "        l = re.sub(\"\",\"\",l)\n",
    "        p.append(l)\n",
    "        #print(i,' ',l)\n",
    "f.close()"
   ]
  },
  {
   "cell_type": "code",
   "execution_count": 6,
   "id": "09ca7fe2",
   "metadata": {
    "collapsed": true
   },
   "outputs": [
    {
     "data": {
      "text/plain": [
       "['WE FEAR THE DARKNESS FOR WE ARE UNSURE OF ITS ENTIRETY WE FEAR THE BEASTS FOR ITS SHARP CLAWS AND IGNORE ITS VULNERABILITY WE FEAR THE GIANT FOR HIS SIZE AND IGNORE HIS IMMOBILITY AND WHEN YOU REALIZE FEAR IS JUST A CONCEPT CONCOCTED BY YOUR OWN MIND YOU ARE FREE ',\n",
       " 'THE DAY I DISCOVERED THERE IS NO HEAVEN IS THE DAY I DISCOVERED THERE IS NO HELL TOO AND THAT MADE ALL THE DIFFERENCE ',\n",
       " 'I WILL HOLD MY BREATH AS THE DIRT FILLS MY LUNGS AND OVERFLOWS THROUGH MY NOSTRILS I WILL KEEP MY EYES SHUT AS IT COVERS MY FACE I WILL STAY QUITE I WILL NOT MOVE I WILL STAY STILL I WILL JUST BE I WILL JUST BE  ',\n",
       " 'IT STARTED OUT WITH A TOUCH OF DESTINY BUT ENDED WITH A KISS OF REALITY  ',\n",
       " 'THE VALLEY ALONG HER SPINE THE DIMPLES ABOVE HER ARSE THE JIGGLE IN HER BELLY THE MUSK BETWEEN HER THIGHS THESE ARE THE REASONS THAT BLUR THE LINE BETWEEN LUST AND LOVE ',\n",
       " 'SHE CAME IN TO MY BED OF THORNS AND TOGETHER WE MADE IT OUR BED OF SINS  ',\n",
       " 'AND THEN I REALIZED SHE WAS NEVER THE MUSE IT WAS THE HEARTBREAKS SHE CAUSED  ',\n",
       " 'SHE BUILT THE SACRED OF ALL PROMISES AND BROKE THEM WITH SUCH GRACE LIKE ONLY SHE COULD  ',\n",
       " 'AND WHEN I SAW HER I KNEW SHE WAS EVERY BIT OF CHAOS THAT HAS BEEN MISSING IN MY LIFE  ',\n",
       " 'OUR CHILDHOODS ENTWINED SHE WAS THE MOTHER I NEVER HAD WHILE I WAS THE BROTHER SHE NEVER HAD AND WHEN WE FUCKED THE GODS SENT DOWN TORRENTS OF RAIN  ',\n",
       " 'HER BODY MAKES ME INHALE FAST AND EXHALE SLOWLY  ',\n",
       " 'HER LIPS ARE LIKE PUNCTUATION TO THE POETRY THAT IS HER BODY ',\n",
       " 'MY LUST FOR YOU IS CODED BY THE GODS IN MY DNA  ',\n",
       " 'ONE LONG AND HONEST LETTER ONE LETTER TO CURE ME FROM THE BLUES ONE LETTER TO STIR UP THE PEACE ONE LETTER TO WREAK CHAS ONE LETTER IS ALL IT TAKES AND THAT ONE LETTER WILL FOREVER STAY IN ME  ',\n",
       " 'HE POINTS A GUN WITH A SINGLE BULLET TO HIS HEAD AND PULLS THE TRIGGER SHE LOVES ME SHE LOVES ME NOT SHE LOVES ME SHE LOVES ME NOT SHE LOVES ME AND BANG GOES THE BULLET DOWN FALLS THE MAN DEEPINTOO A BLISSFUL OBLIVION  ',\n",
       " 'SHE REDUCED MY PAIN TO MERE WORDS MY HAPPINESS TO AN UBIQUITOUS INFINITY  ',\n",
       " 'THE WETNESS OF YOUR LIPS SET MY VEINS ON FIRE',\n",
       " \"MY LOVE FOR HER WAS LIKE DEMENTIA I SAW ALL HER DEMONS LIKE THE LORD'S OWN  \",\n",
       " 'THE THOUGHT OF YOUR HEAVING CHEST KNOCKED THE AIR OUT OF MINE  ',\n",
       " \"WE CAME FROM BROKEN FAMILIES LEAVING US WITH STAGNANT CHILDHOOD DESIRES WE ACHED FOR LOVE IN ALL THE WRONG PLACES AND IGNORED THE VANILLA THAT'S WHY I'M HER HOME  AND SHE IS MY PARADISE THAT'S WHY I'M HER DADDY AND SHE IS MY BABY GIRL  \",\n",
       " 'STONEHEARTED THE BLEEDING STARTED THE CREVICES TREMBLED THE CAPILLARIES RAN FROM THE SURFACE TO THE CORE STONE HEARTED THE BLEEDING STARTED THIS PAIN WILL LAST FOREVER MORE  ',\n",
       " \"WE UNDRESSED EACH OTHERS MINDS OUR TASTES ENTWINED OUR DARKNESS CONSUMED EACH OTHER OUR FANTASIES AND DREAMS MADE EACH OTHER'S BRAIN CUM AND FINALLY THERE WE STOOD FULLY CLOTHED YET SO NAKED TO OUR EYES ALONE  \",\n",
       " 'WHEN MAN REALIZED HE CANNOT BE GOD HE CAME UP WITH THE NEXT BEST THING RELIGION  ',\n",
       " 'I THINK PEOPLE ARE THE MOST BEAUTIFUL WHEN THEY FLASH A SMILE EVEN WITH TEARS IN THEIR EYES BE IT TEARS OF JOY OR GRIEF THE CONTRAST OF TWO HUMAN EMOTIONS ON A FACIAL CANVAS IS THE MOST BEAUTIFUL  ',\n",
       " \"TILL DEATH DO US PART THEY VOWED TO EACH OTHER AND THEN LIVED A LIFE WAITING FOR DEATH TO DO IT'S PART  \",\n",
       " 'HE WAS HER CROWN AND SHE WAS HIS BEAUTY QUEEN  ',\n",
       " 'I LOVED AND LOVED TILL IT HURT AND THEN FINALLY LOVED THE WAY IT HURT  ',\n",
       " \"THERE IS BEAUTY THAT HAS ALWAYS BEEN BEAUTIFUL BUT THEN THERE'S HER THE BEAUTY ONLY FEW SEE AND THE ONES THAT DO SEE FELL HOPELESSLY IN LOVE WITH HER  \",\n",
       " 'THE IS NO WIN THERE IS NO LOSS JUST THE FIGHT THE FIGHT THAT ENSURES BALANCE BETWEEN THE GOOD AND THE EVIL THE FIGHT THAT REMINDS US THAT THOUGH WE LOSE SOME AND WE WIN SOME THERE IS ALWAYS HOPE ',\n",
       " 'THERE ARE THOSE BAYS WHEN EVEN THE SILENCE WONT BE MY COMPANY ABANDONED BY MY LAST RESORT MY ONLY RESORT I REACH OUT TO HER I REACH OUT TO THE ONLY BEATING HEART THAT WILL LISTEN AND SYMPATHIZE BUT ALAS THAT HEART WAS ONLY HUMAN  ',\n",
       " \"UNRAVEL HER DEMONS AND SHOW HER WHO'S IN CHARGE  \",\n",
       " 'WE LEARNT THE GAME TOGETHER AND YET SOMEHOW WHEN I DEALT YOU MY HEART YOURS STAYED AT THE SLEEVE WHILE MINE WAS LEFT TO BLEED  ',\n",
       " 'SHE HATED ME WITH THE KIND OF HATRED THAT BLED WITH LOVE  ',\n",
       " 'I MARK MY TERRITORY EVERY TIME SHE WETS HER PANTIES WITH PRECUM  ',\n",
       " \"THE ONLY TIME WE ACKNOWLEDGE OUR HUMANITY IS WHEN WE'VE COMPLETELY LOST IT  \",\n",
       " 'I SAW HER NAKED SOUL HER THOUGHTS WERE CORRUPT BUT HER ESSENCE PURE I SAW HER NAKED SOUL HER DREAMS WERE WILD BUT HER DRIVE UNSTOPPABLE I SAW HER NAKED SOUL HER ANGER WAS SCORCHING BUT HER LOVE PURE COCAINE I SAW HER NAKED SOUL I FELL FOR HER NAKED SOUL  ',\n",
       " 'YOU WERE THE POETRY THAT NEVER MADE IT TO PAPER  ',\n",
       " 'LIFE GOES ON STOPPING FOR NO ONE GIVING ME OPPORTUNITIES TO SWIM OUT OF THIS SORROW THAT HAS ENGULFED ME FROM WITHIN BUT I STAY DEEP UNDER FOR THIS PAIN IS FAMILIAR THIS PAIN IS HOME THIS PAIN IS YOU THIS PAIN IS LOVE THAT I ONCE FELT  ',\n",
       " 'WHAT IS A MAN TO DO WHEN HE REALISES HIS PARADISE LOST WAS NO PARADISE AT ALL  ',\n",
       " 'AND WHEN WE BOTH THREW AWAY OUR SHIELDS AND SWORD I WAS STRUCK BY A DAGGER  ',\n",
       " 'AS WE BEGAN TO WALK AWAY FROM EACH OTHER I PULLED HER BY HER WRISTS NOT LONGING FOR A LAST TOUCH NOT LONGING FOR ONE LAST KISS BUT TO ASK HER FOR MY HEART BACK ',\n",
       " 'LOVE IS ENERGY THAT NEVER FADES AWAY IT JUST DRIVES YOU DIFFERENTLY IN TIME  ',\n",
       " 'SHE THREW MY HEART BACK TO ME AND I TORE IT TO PIECES I PUNCTURED ITS ATRIUM WITH MY FINGERS AND THREW IT TO A DIRECTION I DID NOT SEE I SMILED AT HER WITH BLOOD DRIPPING DOWN MY CHIN THANK YOU FOR THE GIFT OF IMMORTALITY  ',\n",
       " \"EVERY TIME I TRY TO BREATHE MY LUNGS ARE ONLY HALF FULL EVERY TIME I TAKE A STEP MY CALVES FEEL HEAVY EVERY TIME I THINK OF YOU MY HEART SLOWS EVERY TIME I'M REMINDED THAT YOURE NOT MINE I DETERIORATE  \",\n",
       " 'SHE OPENED HER LEGS WIDER AND I BURIED MY SORROWS DEEP INSIDE HER SHE WAS WARM SHE WAS FIRE  ',\n",
       " 'LOVE IS THE ONLY DRUG THAT WE ALL DO NO MATTER HOW MANY WARNINGS WERE GIVEN  ',\n",
       " 'SHE COULD MAKE A WRITER FEEL AT A LOSS FOR WORDS  ',\n",
       " 'LET YOUR SCARS HEAL YOU LET YOUR DREAMS WAKE YOU LET YOUR MONSTERS CHASE YOU BUT NEVER EVER BREAK YOU  ',\n",
       " 'SHE LEFT A SCAR ON MY FOREARM YOU LEFT A SCAR ON MY MIND I HIDE MY SCAR WITH MY WATCH I HIDE YOURS WITH A SMILE  ',\n",
       " 'I TELL HER WE SHOULD STOP DOING THIS SHE SLAPS ME HARD SHE TRIES TO RUN AWAY SEEING MY STILL FACE I GRAB HER AND THROW HER AGAINST THE WALL I BIT HER LIPS SINKING MY TEETH DEEP AND PULLED SHE SLAPS ME AGAIN I TURN HER AROUND AND PULL DOWN HER PANTIES ENOUGH TO EXPOSE WHAT I WANT I FUCK HER LIKE A MAD MAN ALL THE WHILE WONDERING WHO IS IN CONTROL OF WHOM  ',\n",
       " 'I WONDER ABOUT YOU EVERYDAY AND EVERYDAY I ALLOW THIS PAIN BECAUSE THIS PAIN IS YOU AND YOU ARE ALL I EVER WANTED  ',\n",
       " 'MY LAP HER THRONE MY BONES AND FLESH HER JEWELS MY ARMS HER SWORD AND SHIELD MY HEART HER KINGDOM  ',\n",
       " 'SHE SMILED THE MORNING DEW ON HER THICK PATCH GLISTENED SHE WAS MINE WHEN MY HEART WASNT  ',\n",
       " 'IT STARTED OUT LIKE DESTINY BUT ENDED LIKE A BLOODY MESS WE BOTH REFUSED TO CLEAN  ',\n",
       " 'IT STARTED OUT WITH A TOUCH OF DESTINY BUT ENDED WITH A KISS OF REALITY   ',\n",
       " 'SHE CAME IN TO MY BED OF THORNS AND TOGETHER WE MADE IT OUR BED OF SINS  ',\n",
       " 'AND THEN I REALIZED SHE WAS NEVER THE MUSE IT WAS THE HEARTBREAKS SHE CAUSED  ',\n",
       " 'SHE BUILT THE SACRED OF ALL PROMISES AND BROKE THEM WITH SUCH GRACE LIKE ONLY SHE COULD  ',\n",
       " 'ONLY YOU COULD BREAK MY HEART TO SMITHEREENS AND STILL LEAVE IT BEATING FOR YOU  ',\n",
       " 'I WILL KEEP DENYING HER MY LOVE UNTIL SHE CANT LOVE ME NO MORE AND THEN LOVE WITHOUT WORRY BECAUSE SHE CANT HURT ME NO MORE  ',\n",
       " 'I SEE HER HEART BEAT THE WAY HER HAIR FLUTTERS IN THE AIR THE WAY HER BREASTS RIPPLE WITH EVERY THRUST THE WAY SHE QUICKLY BITES DRY SKIN OFF HER LIPS THE WAY SHE SHAKES HER HEAD TO AND FRO WHEN I MAKE HER SMILE I SEE HER HEART BEAT  ',\n",
       " 'WHY DO WE ALL PRETEND THAT WE CAN LOVE AND FORGET  ',\n",
       " 'THE TRUTH IS THERE IS NO GOOD OR EVIL JUST US HUMAN BEINGS TRYING TO SURVIVE ',\n",
       " 'AND WHEN I SAW HER I KNEW SHE WAS EVERY BIT OF CHOAS THAT HAS BEEN MISSING IN MY LIFE  ',\n",
       " 'SHE STRIPPED HER SOUL AND FOLDED IT INTO FOUR SHE GAVE ME HER WHOLE SHE GAVE ME HER SOUL  ',\n",
       " 'TIME CHANGES GOLD TO RUST AND SEQUINS TO DIAMONDS  ',\n",
       " \"DO YOU SEE THAT THATS LIFE LITERALLY SPREADING HER LEGS WAITING FOR YOU TO PLUNGE FORTH AND MAKE HER CUM BECAUSE TOO MANY PEOPLE ARE SCARED TOO MANY PEOPLE ARE AFRAID TO TAKE A STEP FORWARD THIS IS YOUR CHANCE THERE'S NO COMPETITION FOR YOU NOW ITS JUST LITERALLY RIGHT THERE GRAB IT  \",\n",
       " 'LOVE IS JUST MENTAL IMAGE SCARS IN THE BACK OF YOUR CRANIUM LEFT TO STING EVERY TIME YOU GO BACK TO SEE IF IT STILL HURTS  ',\n",
       " 'SHE WAS ONE OF THE DEMONS I TRIED TO TURN INTO AN ANGEL WITH MY WORDS BUT NO MATTER HOW MUCH I POURED MY SOUL 6UT SHE ONLY WANTED MORE  ',\n",
       " 'ALL THESE BROKEN BREAMS AND WHAT COULD HAVE BEENS THEY HAUNT AND TAUNT ALL NIGHT LONG PICTURES MOVIES AND EVERY BLOODY SONG SENDS A WISP OF AIR THROUGH THE PILE OF DEAD BUTTERFLIES IN MY CORE THEY FLUTTER WITH THEIR WRINKLED AND BROKEN WINGS THEY SWING DANCE AND THEN COME CRASHING DOWN JUST LIKE WE DID AT THE BREAK OF DAWN  ',\n",
       " 'SHE HEALED MY SCARS WITH HER KISSES QUENCHED MY THIRST WITH HER EJACULATE MENDED MY PRIDE WITH WITH HER PASSION TOOK ME TO HER BED AND MADE IT OUR HOME SHE DID ALL THIS AND MORE BUT THIS BROKEN HEART WILL NEVER BEAT AGAIN  ',\n",
       " 'LOVERS ARE WARRIORS WHO DISROBE THEIR SUITS OF ARMOR AFTER HANDING EACH OTHER THEIR BEATING HEARTS  ',\n",
       " 'LOOK AT HER I SWEAR ONE BAY SHE IS GOING TO LIFT THE WHOLE WORLD OFF ITS AXIS AND USE IT AS HER STEPPING STONE  ',\n",
       " 'OUR BED STUNK OF SWEAT BLOOD AND CUM OUR BODIES STUNK OF EACH OTHER AND OUR SOULS POISONED WITH THE PROMISE OF ETERNAL LOVE  ',\n",
       " 'THESE SCARS THESE SCARS WILL ONE DAY HEAL AND BECOME THE WOUNDS THAT WILL ONE DAY SPEAK OF THE LOVE THAT NEVER MADE ME REGRET BUT OF A LOVE THAT MADE ME CONTENT  ',\n",
       " 'THE HARDEST PART OF IT ALL IS TO FORGET ALL THAT MAGIC TO UNDO EVERY LAST BIT OF IT ALL BY MYSELF  ',\n",
       " 'ILL APPOLOGIZE WHEN THE VOICES IN MY HEAD STOP COMING UP WITH REASONS TO LOVE AND HATE YeU AT THE SAME TIME  ',\n",
       " 'YOU ARE THE MUSIC THAT I KEEP BUT NEVER LISTEN TO YOU ARE THE PICTURES THAT I KEEP BUT NEVER BURN YOU ARE THE PATHS THE MEMORIES THE THOUGHTS THAT I DARE NOT TREAD INTO YOU ARE YOU ARE YOU ARE THE LOVE OF MY LIFE THOUGH I BARELY LIVE WITHOUT YOU  ',\n",
       " 'YOU WERE NEVER THE MISSING PIECE YOU WERE THE FRAME  ',\n",
       " 'IF I KISSED YOU NeW YOUR LIPS WOULD BLEED IF I HUGGED YOU NOW YOUR BONES WOULD CRACK IF I CARRESED YOUR SKIN Il LEAVE YOU BLUE AND BLACK MAYBE THIS IS LOVE MAYBE THIS IS HATE OR MAYBE THIS LOVE IS NOW LACED WITH HATE  ',\n",
       " ' ',\n",
       " 'IN THIS ABYSS THERE YOU STAND SURVIVING IN THIS ABYSS HERE I AM DROWNING IN THIS ABYSS TOGETHER WE ARE LOST  ',\n",
       " 'OH CURSE THE GODS FOR MAKING YOU FEEL LIKE DESTINY LIKE A SYMPHONY ORCHESTRATED BY MY VERY OWN CRUMBLING HEART GH CURSE THE GODS  ',\n",
       " 'YOU LIE YOU LIE EVERY 24TH OF JULY THAT YOU DO NOT LOVE ME ANYMORE I LIE I LIE EVERY 24TH OF JULY AWAKE AND IN LOVE WITH A FACE I DO NOT SEE ANYMORE  ',\n",
       " 'I AM SORRY I LOVED HER A LITTLE TOOO MUCH THIS IS ALL I HAVE LEFT TAKE IT PLEASE  ',\n",
       " 'RED EYES WITH A SULPHUR BURN CRANIUM HURTS WITH EVERY TURN YOU ARE MY CURE YOUR LOVE AND YOUR INNOCENCE PURE YOU ARE MY CURE YOUR EYES AND YOUR DEVILISH ALLURE  ',\n",
       " 'THOSE FLAGS WERE RED AND MY LIPS BLED I WANT TO SAY I LOVE YOU BUT CANT MEAN IT TOO  ',\n",
       " 'OUR CHILDHOODS ENTWINED SHE WAS THE MOTHER I NEVER HAD WHILE I WAS THE BROTHER SHE NEVER HAD AND WHEN WE FUCKED THE GODS SENT DOWN TORRENTS OF RAIN  ',\n",
       " 'SHE WAS A WILTED ROSE WITH ONLY A REBISH INSIDE SHE SCREAMED OF SHARP THORNS READY TO PRICK BUT ALL THE WHILE YEARNING FOR SOMEONE TO DARE KISS SHE WAS A WILTED ROSE NOW WITH A REDISH OUTSIDE  ',\n",
       " 'I DRANK YOUR MEMORIES LAST NIGHT IT WAS AN INFINITE VASE POURING SEA WATER DOWN MY THROAT MAKING ITS WAY TO THE BACK OF MY GUT CURLING THE CIRCUMFERENCE 6OF IT SENDING COLD SHIVERS RIGHT TO MY DAMN SPINE I DO THIS EVERY NIGHT I DO THIS EVERY NIGHT I DO THIS EVERY NIGHT  ',\n",
       " 'Pain is the only realest feeling in this world We measure coldness only by the absence of heat Darkness by the absence of light Silence by the absence of sound And thus happiness by the absence of pain - - ',\n",
       " \"THE LIGHT WHEN OTHERS GO FORWARD WITH THEIR DREAMS THE DARKNESS PUT IN THEM I FEEL ALIENATED I FEEL PITY FOR THESE BEINGS SO SIMPLE AND FRAIL FOR THEY KNOW NOT THE TRICKERY OF THE NIGHT THE COLD THE CREPUSCULE WITH ITS TWILIGHT SMILE SEDUCES THEM AND AVENGES FOR THEIR IGNORANCE OVER HER BEAUTY AND THUS AS THE VILLAINOUS DARKNESS' SOLE COMPANION I PREACH CARPE NOCTEM \",\n",
       " 'I CLUTCHED HER HAIR AND PULLED HER HEAD BACK WARDS EXPOSING HER NAKED NECK AND OPEN MOUTH GASPING FOR AIR I LET MY FINGERS SLITHER AROUND HER NECK AND CHOKED HER WITH MY KISSES AND SHE GAVE UP SHE GAVE IT ALL UP  ',\n",
       " 'THE THOUGHT OF YOUR HEAVING CHEST KNOCKED THE AIR OUT OF MINE  ',\n",
       " 'AS I RAN MY FINGERS THROUGH YOUR BODY I FELT MY HEART BEAT RISE AND DROP ALONG YOUR CURVES  ',\n",
       " 'I LOVED AND LOVED TILL IT HURT AND THEN FINALLY LOVED THE WAY IT HURT  ',\n",
       " 'I CLUTCHED HER HAIR AND PULLED HER HEAD BACK WARDS EXPOSING HER NAKED NECK AND OPEN MOUTH GASPING FOR AIR I LET MY FINGERS SLITHER AROUND HER NECK AND CHOKED HER WITH MY KISSES SHE GAVE UP SHE GAVE IT ALL UP  ',\n",
       " 'I WROTE HER NAME AND IT WAS POETRY  ',\n",
       " 'HER LIPS ARE LIKE PUNCTUATION IN THE POETRY THAT IS HER BODY  ',\n",
       " 'WE SHARED THE KIND OF LOVE THAT MADE ME WANT TO EXPLORE EVERY CREVICE N YOUR BODY WITH MY BARE TONGUE  ',\n",
       " \"WITH A HEART THAT IS BROKEN BEYOND REPAIR I'VE REACHED A POINT WHERE EACH OF THE PIECES HAVE STARTED ACTING ON THEIR OWN THEY FALL IN LOVE TOGETHER OR ALTERNATIVELY THEY FREE FALL OR THEY BONT FALL THEY FALL IN LOVE WITH GLASSES THEY FALL IN LOVE WITH BRACES THEY FALL IN LOVE WITH PRETY RED LIPS THEY FALL IN LOVE WITH THE DEVIL WEARING GRACIOUS FACES DEAR LORD SAVE ME FROM THIS PAIN SAVE ME FROM THIS FEAR OF BREAKING ANOTHER HEART AND PASSING THIS CURSE ON LIKE IT WAS PASSED ON TO ME  \",\n",
       " 'SHE CRAVED FOR LUST FROM STRANGERS TO MAKE UP FOR THE HER LOST CROWN ADORNED WITH HIS LOVE  ',\n",
       " 'HER BODY MAKES ME INHALE FAST AND EXHALE SLOWLY  ',\n",
       " 'MY LUST FOR YOU IS CODED BY THE GODS IN MY DNA  ',\n",
       " 'HE POINTS A GUN WITH A SINGLE BULLET TO HIS HEAD AND PULLS THE TRIGGER SHE LOVES ME SHE LOVES ME NOT SHE LOVES ME SHE LOVES ME NOT SHE LOVES ME AND BANG GOES THE BULLET DOWN FALLS THE MAN DEEP INTO A BLISSFUL OBLIVION  ',\n",
       " 'THE PINK IN HER PIMPLES THE PINK IN HER LIPS THE PINK IN HER NIPPLES THE PINK IN HER CUNT SHE WAS A BOUQUET OF WILD ROSES AND THE ONLY THORNS IN HER WERE MINE ',\n",
       " \"IS THERE A GOD IS PRAYER MORE THAN JUST SELF AFFIRMATION DOING GOOD KEEPS YOU SAFE GETS YOU A GOOD NAME KEEPS YOU OUT OF JAIL BUT HOW MANY DO IT JUST TO ESCAPE HELL RATHER THAN FOR THE SAKE OF GOODNESS ARE RELIGION AND GOD DIFFERENT ENTITIES ALL TOGETHER WHY IS GOOD ALWAYS ACCREDITED TO GOD AND THE BAD TO THE DEVIL AND ALSO SOMETIMES THE BAD IS ALSO FROM GOD BUT THIS TIME AS PUNISHMENT HOW CAN YOU BELIEVE IN RELIGION WHEN ALL IT ASKS IN RETURN IS BLIND FAITH WHAT IF YOU REALISE YOU'VE LIVED A SINFUL OR JUST A BORING LIFE WAY TOO LATE IN LIFE WILL HEAVEN OR HELL STILL GIVE WHAT YOU DESERVE SOME SEE A SERIES OF QUESTIONS SOME SEE A SERIES OF ANSWERS BUT WHAT'S IMPORTANT IS THAT YOU CHOSE TO SEE  \",\n",
       " 'IT WAS LIKE TWO LOVERS FRANTICALLY UNDRESSING EACH OTHER TO GET TO THE NAKED SKIN AND TIGHTLY EMBRACING BEFORE CONSUMING ONE ANOTHER BUT WE WENT A STEP FURTHER UNDRESSING EACH OTHERS LAYERS AND EMBRACED OUR SOULS MAKING OUR MINDS CUM  ',\n",
       " 'BABY SHE WAS JUST DETOX YOU ARE MY FAVORITE DRUG  ',\n",
       " \"CURSED WITH A MADMAN'S HEART THAT WILL LOVE TOO EASILY AND HATE TOO FURIOUSLY I SAW HER AND THEN BURST INTO FLAMES  \",\n",
       " 'I SEDUCED THE ANGEL OF DEATH SHE KILLS ME EVERY DAY AND I LOVE IT  ',\n",
       " \"HE'S THE GUN HAT I POINT TO MY HEAD VERY DAY PULL THE TRIGGER AND OUT SPEWS POETRY  \",\n",
       " \"ASHES TO ASHES DUST TO DUST WHEO ELSE WILL I LOVE WHO ELSE WILL I TRUST ASHES TO ASHES DUST TO BUST EVERY TIME I BREAK IT IT ONLY GETS STRONGER BOTH YOUR LOVE AND TRUST ASHES TO ASHES DUST TO DUST SAVE ME FROM THIS PAIN OR LET ME BITE THE BUST ASHES TO ASHES DUST TO DUST IM A CRAZY MOTHERFUCKER WHOM YOU SHOULD NEVER TRUST ASHES TO ASHES DUST TO BUST BUT YOURE A CRAZY LITTLE BITCH NO WONDER IT'S ME YOU TRUST  \",\n",
       " 'SHE OWNED MY VOCABULARY SAVED THE BEST FOR HERSELF AND THE REST WAS POETRY FOR THE WORLD  ',\n",
       " \"HERE LIES A MAN WITH A HEART THAT'S PUMPED ITS LAST DROP OF BLOOD A LIVER THAT'S LASTED SEVERAL ROUNDS OF WHISKEY A PAIR OF LUNGS THATS CONSUMED AND EXHALED ANYTHING THAT CAN BE SMOKED A BRAIN THAT HAS CONCEIVED INTRICATE LIES TO MAKE AND BREAK HEARTS HANDS THAT HAVE FOUGHT AND CARRESED LEGS THAT OFTEN WALKED ALONE AND STUMBLED ROD OF HIS MANHOOD THAT MADE LOVE FUCKED AND FUCKED HARDER HERE LIES A MAN THAT'S PROBABLY NOT GOING TO BE IN HEAVEN BUT SHALL FOREVER RULE IN HELL  \",\n",
       " \"WE CAME FROM BROKEN FAMILIES LEAVING US WITH STAGNANT CHILDHOGOD DESIRES WE ACHED FOR LOVE IN ALL THE WRONG PLACES AND IGNORED THE VANILLA THAT'S WHY I'M HER HOME  AND SHE IS MY PARADISE THAT'S WHY I'M HER DADDY AND SHE IS MY BABY GIRL  \",\n",
       " 'WHAT DO YOU DO WHEN THE HAND THAT ROCKED THE CRADLE IS NOW GRIPPED AROUND YOUR THROAT WHAT DO YOU DO WHEN THE HAND THAT FED YOU IS NOW TAKING AWAY WHATS ON YOUR PLATE WHAT DO YOU DO WHEN THE HANDS THAT HELPED YOU BUILD YOUR FIRST SAND CASTLE ARE NOW SHATTERING YOURS DO YOU FIGHT BACK OR DO YOU LET GO  ',\n",
       " \"WE UNDRESSED EACH OTHERS MINDS OUR TASTES ENTWINED OUR DARKNESS CONSUMED EACH OTHER OUR FANTASIES AND DREAMS MADE EACH OTHER'S BRAIN CUM AND FINALLY THERE WE STOOD FULLY CLOTHED YET SO NAKED TO OUR EYES ALONE  \",\n",
       " 'WHEN MAN REALIZED HE CANNOT BE GOD HE CAME UP WITH THE NEXT BEST THING RELIGION  ',\n",
       " \"ITS GOING TO HAPPEN I CAN FEEL IT I'M LOSING MY GRIP IMAGES SLOW AND GET SUCKED INTO MY PERIPHERAL VISION I'M LOSING MOMENTUM THE CENTRIFUGAL FORCE LOWERS MY FRONT WHEEL BEGINS TO WOBBLE AND THEN I KISS THE TARMAC SLIDING ACROSS UNTIL FINALLY MY HEART STOPS BEATING RESTING FOREVER  \",\n",
       " 'WHAT DO YOU DO WHEN THE HAND THAT ROCKED THE CRADLE IS NOW GRIPPED AROUND YOUR THROAT WHAT DO YOU DO WHEN THE HAND THAT FED YOU IS NOW TAKING AWAY WHATS ON YOUR PLATE WHAT DO YOU DO WHEN THE HANDS THAT HELPED YOU BUILD YOUR FIRST SAND CASTLE ARE NOW SHATTERING YOUR HOME DO YOU FIGHT BACK OR DO YOU LET GO  ',\n",
       " 'I CLUTCHED HER HAIR AND PULLED HER HEAD BACK WARDS EXPOSING HER NAKED NECK AND OPEN MOUTH GASPING FOR AIR I LET MY FINGERS SLITHER AROUND HER NECK AND CHOKED HER WITH MY KISSES AND SHE GAVE UP SHE GAVE IT ALL UP  ',\n",
       " 'SHE CRAVED FOR LUST FROM STRANGERS TO MAKE UP FOR THE HER LOST CROWN ADORNED WITH HIS LOVE  ',\n",
       " 'HE HAD THEM BOTH GOD AND THE DEVIL COMPLEX  ',\n",
       " 'I FALL FOR THE LOUD NOT BY WORDS BUT LOUD BY ACTIONS   ',\n",
       " 'IT WAS LIKE TWO LOVERS FRANTICALLY UNDRESSING EACH OTHER TO GET TO THE NAKED SKIN AND TIGHTLY EMBRACING BEFORE CONSUMING ONE ANOTHER BUT WE WENT A STEP FURTHER UNDRESSING EACH OTHERS LAYERS AND EMBRACED OUR SOULS MAKING OUR MINDS CUM  ',\n",
       " \"CURSED WITH A MADMAN'S HEART THAT WILL LOVE TOO EASILY AND HATE TOO FURIOUSLY I SAW HER AND THEN BURST INTO FLAMES  \",\n",
       " 'WHAT DO YOU DO WHEN THE HAND THAT ROCKED THE CRADLE IS NOW GRIPPED AROUND YOUR THROAT WHAT DO YOU DO WHEN THE HAND THAT FED YOU IS NOW TAKING AWAY WHATS ON YOUR PLATE WHAT DO YOU DO WHEN THE HANDS THAT HELPED YOU BUILD YOUR FIRST SAND CASTLE ARE NOW SHATTERING YOUR HOME DO YOU FIGHT BACK OR DO YOU LET GO  ',\n",
       " 'SHE WISHED I WAS A PAINTER WHO PAINTED HER NAKED RATHER THAN A POET WHO PUBLISHED HER SOUL TO THE WHOLE WORLD  ',\n",
       " 'HER EYES GLISTENED STILL WITH THE FEAR OF SHEDDING THE TEAR AT BAY EVERYTHING STOPPED EVERYTHING SLOWED AND THEN FINALLY HE TURNED AROUND TO LEAVE SHE BLINKED  ',\n",
       " 'I THINK PEOPLE ARE THE MOST BEAUTIFUL WHEN THEY FLASH A SMILE EVEN WITH TEARS IN THEIR EYES BE IT TEARS OF JOY OR GRIEF THE CONTRAST OF TWO HUMAN EMOTIONS ON A FACIAL CANVAS IS THE MOST BEAUTIFUL  ',\n",
       " \"TILL DEATH DO US PART THEY VOWED TO EACH OTHER AND THEN LIVED A LIFE WAITING FOR DEATH TO DO IT'S PART  \",\n",
       " \"THERE IS BEAUTY THAT HAS ALWAYS BEEN BEAUTIFUL BUT THEN THERE'S HER THE BEAUTY ONLY FEW SEE AND THE ONES THAT DO SEE FELL HOPELESSLY IN LOVE WITH HER  \",\n",
       " 'THERE ARE NO HAPPY ENDINGS JUST A GIRL WORTH FIGHTING FOR  ',\n",
       " 'THERE ARE THOSE BAYS WHEN EVEN THE SILENCE WONT BE MY COMPANY ABANDONED BY MY LAST RESORT MY ONLY RESORT I REACH OUT TO HER I REACH OUT TO THE ONLY BEATING HEART THAT WILL LISTEN AND SYMPATHIZE BUT ALAS THAT HEART WAS ONLY HUMAN  ',\n",
       " 'MY LOVE FOR YOU DEMONIC MY LUST FOR YOU SATANIC  ',\n",
       " \"UNRAVEL HER DEMONS AND SHOW HER WHO'S IN CHARGE  \",\n",
       " 'SHE HATED ME WITH THE KIND OF HATRED THAT BLED WITH LOVE  ',\n",
       " 'I MARK MY TERRITORY EVERY TIME SHE WETS HER PANTIES WITH PRECUM  ',\n",
       " 'WE SPEND OUR LIVES RUNNING AWAY FROM OUR DEMONS ONLY TO BECOME THEM IN THE END  ',\n",
       " \"THE ONLY TIME WE ACKNOWLEDGE OUR HUMANITY IS WHEN WE'VE COMPLETELY LOST IT  \",\n",
       " 'I SEE TEARS THAT SPEAK OF MIRACLES I SEE KNEES THAT REFUSE TO STAND UNTIL GRANTED FORGIVENESS I SEE HANDS THAT STAY CLASPED PRAYING FOR HEALING I WANT TO BELIEVE I WANT TO BELEIVE I WANT TO BELEIVE  ',\n",
       " 'I WILL NO LONGER LET THIS MONSTER HURT YOU I WILL GOUGE ITS EYES OUT SEVERE ITS LIMBS PUNCTURE ITS LUNGS AND RIP ITS HEART OUT I WILL DO ALL THIS AND MORE BUT IF YOURE STILL GOING TO LEAVE ALL THAT WILL BE LEFT IN ME IS A MONSTER WITHOUT A HEART WONDERING HOW IT COULD HAVE BEEN  ',\n",
       " 'I SAW HER NAKED SOUL HER THOUGHTS WERE CORRUPT BUT HER ESSENCE PURE I SAW HER NAKED SOUL HER DREAMS WERE WILD BUT HER DRIVE UNSTOPPABLE I SAW HER NAKED SOUL HER ANGER WAS SCORCHING BUT HER LOVE PURE COCAINE I SAW HER NAKED SOUL I FELL FOR HER NAKED SOUL  ',\n",
       " 'YOU WERE THE POETRY THAT NEVER MADE IT TO PAPER  ',\n",
       " 'MORTALS PRAY IMMORTALS LOVE  ',\n",
       " 'LIFE GOES ON STOPPING FOR NO ONE GIVING ME OPPORTUNITIES TO SWIM OUT OF THIS SORROW THAT HAS ENGULFED ME FROM WITHIN BUT I STAY DEEP UNDER FOR THIS PAIN IS FAMILIAR THIS PAIN IS HOME THIS PAIN IS YOU THIS PAIN IS LOVE THAT I ONCE FELT  ',\n",
       " 'WHAT IS A MAN TO DO WHEN HE REALISES HIS PARADISE LOST WAS NO PARADISE AT ALL  ',\n",
       " 'AS WE BEGAN TO WALK AWAY FROM EACH OTHER I PULLED HER BY HER WRISTS NOT LONGING FOR A LAST TOUCH NOT LONGING FOR ONE LAST KISS BUT TO ASK HER FOR MY HEART BACK  ',\n",
       " 'SHE THREW MY HEART BACK TO ME AND I RIPPED IT TO SHREDS I PUNCTURED ITS ATRIUM WITH MY FINGERS AND THREW IT TO A DIRECTION I DID NOT SEE I SMILED AT HER WITH BLOOD DRIPPING DOWN MY CHIN THANK YOU FOR THE GIFT OF IMMORTALITY  ',\n",
       " 'SHE BELIEVED IN MAGIC SPELLS AND POTIONS BUT I BELIEVED IN NONE I BELIEVED IN HER LOVE HER KISS AND HER LIPS BUT SHE BELIEVED IN NONE  ',\n",
       " \"EVERY TIME I TRY TO BREATHE MY LUNGS ARE ONLY HALF FULL EVERY TIME I TAKE A STEP MY CALVES FEEL HEAVY EVERY TIME I THINK OF YOU MY HEART SLOWS EVERY TIME I'M REMINDED THAT YOURE NOT MINE I DETERIORATE  \",\n",
       " 'SHE OPENED HER LEGS WIDER AND I BURIED MY SORROWS DEEP INSIDE HER SHE WAS WARM SHE WAS FIRE ',\n",
       " 'ALL THESE MEMORIES HeW COULD I EVER FORGET FOR THEY ARE NOT TREASURED IN MY PREFRONTAL CORTEX BUT ETCHED TO THE INSIDE OF MY CRANIUM  ',\n",
       " 'LOVE IS THE ONLY DRUG THAT WE ALL DO NO MATTER HOW MANY WARNINGS WERE GIVEN  ',\n",
       " 'LET YOUR SCARS HEAL YOU LET YOUR DREAMS WAKE YOU LET YOUR MONSTERS CHASE YOU BUT NEVER EVER BREAK YOU  ',\n",
       " 'SHE LEFT A SCAR ON MY FOREARM YOU LEFT A SCAR ON MY MIND I HIDE MY SCAR WITH MY WATCH I HIDE YOURS WITH A SMILE  ',\n",
       " 'I TELL HER WE SHOULD STOP DOING THIS SHE SLAPS ME HARD SHE TRIES TO RUN AWAY SEEING MY STILL FACE I GRAB HER AND THROW HER AGAINST THE WALL I BIT HER LIPS SINKING MY TEETH DEEP AND PULLED SHE SLAPS ME AGAIN I TURN HER AROUND AND PULL DOWN HER PANTIES ENOUGH TO EXPOSE WHAT I WANT I FUCK HER LIKE A MAD MAN ALL THE WHILE WONDERING WHO IS IN CONTROL OF WHOM  ',\n",
       " 'SILENCE JUST PURE SILENCE NO MUSIC OF THE TELEVISION PLAYING IN THE DISTANCE NO LAUGHTER NO SMIRKS NO SMILESNO SOUND OF UTENSILS CLINKING NO SOUND OF FOOTSTEPS NO SOUND OF VEHICLES HONKING NO SOUNDS OF DOGS BARKING NO SOUNDS OF BIRDS CHIRPING NO SOUNDS OF THE FANS SPINNING NO SOUNDS OF DOORS OPENING NO SOUNDS NO VOICES NOTHING JUST PURE SILENCE  ',\n",
       " 'MY LAP HER THRONE MY BONES AND FLESH HER JEWELS MY ARMS HER SWORD AND SHIELD MY HEART HER KINGDOM  ',\n",
       " 'SHE SMILED HER EJACULATE GLISTENED LIKE MORNING DEW ON HER THICK PATCH SHE WAS MINE WHEN MY HEART WASNT ']"
      ]
     },
     "execution_count": 6,
     "metadata": {},
     "output_type": "execute_result"
    }
   ],
   "source": [
    "p"
   ]
  },
  {
   "cell_type": "code",
   "execution_count": 80,
   "id": "9568122b",
   "metadata": {},
   "outputs": [],
   "source": [
    "poetry_df = pd.DataFrame(data=p,columns=['poetry'])"
   ]
  },
  {
   "cell_type": "code",
   "execution_count": 81,
   "id": "888b5074",
   "metadata": {},
   "outputs": [
    {
     "data": {
      "text/plain": [
       "pandas.core.frame.DataFrame"
      ]
     },
     "execution_count": 81,
     "metadata": {},
     "output_type": "execute_result"
    }
   ],
   "source": [
    "type(poetry_df)"
   ]
  },
  {
   "cell_type": "code",
   "execution_count": 82,
   "id": "d6a78194",
   "metadata": {},
   "outputs": [
    {
     "data": {
      "text/plain": [
       "list"
      ]
     },
     "execution_count": 82,
     "metadata": {},
     "output_type": "execute_result"
    }
   ],
   "source": [
    "type(p)"
   ]
  },
  {
   "cell_type": "markdown",
   "id": "86237790",
   "metadata": {},
   "source": [
    "# Tokenize the corpus"
   ]
  },
  {
   "cell_type": "code",
   "execution_count": 9,
   "id": "34aa47f7",
   "metadata": {},
   "outputs": [],
   "source": [
    "from tensorflow.keras.preprocessing.sequence import pad_sequences\n",
    "from tensorflow.keras.preprocessing.text import Tokenizer"
   ]
  },
  {
   "cell_type": "code",
   "execution_count": 10,
   "id": "870a26d0",
   "metadata": {},
   "outputs": [],
   "source": [
    "vocab_size = 612\n",
    "embedding_dim = 64\n",
    "max_length = 200\n",
    "trunc_type = 'post'\n",
    "padding_type = 'pre'\n",
    "oov_tok = '<OOV>'\n",
    "training_portion = .8"
   ]
  },
  {
   "cell_type": "code",
   "execution_count": 11,
   "id": "efe0ad43",
   "metadata": {},
   "outputs": [],
   "source": [
    "tokenizer = Tokenizer(oov_token=oov_tok)"
   ]
  },
  {
   "cell_type": "code",
   "execution_count": 12,
   "id": "7be00a03",
   "metadata": {},
   "outputs": [],
   "source": [
    "tokenizer.fit_on_texts(p)"
   ]
  },
  {
   "cell_type": "code",
   "execution_count": 13,
   "id": "fb7933b2",
   "metadata": {},
   "outputs": [],
   "source": [
    "total_words = len(tokenizer.word_index) + 1"
   ]
  },
  {
   "cell_type": "code",
   "execution_count": 14,
   "id": "662f6ab4",
   "metadata": {},
   "outputs": [
    {
     "name": "stdout",
     "output_type": "stream",
     "text": [
      "{'<OOV>': 1, 'the': 2, 'i': 3, 'her': 4, 'and': 5, 'my': 6, 'to': 7, 'she': 8, 'you': 9, 'of': 10, 'a': 11, 'that': 12, 'is': 13, 'with': 14, 'in': 15, 'it': 16, 'for': 17, 'love': 18, 'me': 19, 'do': 20, 'was': 21, 'we': 22, 'but': 23, 'this': 24, 'your': 25, 'when': 26, 'are': 27, 'all': 28, 'no': 29, 'heart': 30, 'our': 31, 'every': 32, 'will': 33, 'only': 34, 'not': 35, 'naked': 36, 'time': 37, 'never': 38, 'like': 39, 'on': 40, 'each': 41, 'see': 42, 'just': 43, 'by': 44, 'one': 45, 'pain': 46, 'they': 47, 'what': 48, 'its': 49, 'there': 50, 'out': 51, 'from': 52, 'then': 53, 'soul': 54, 'let': 55, 'saw': 56, 'back': 57, 'now': 58, 'made': 59, 'up': 60, 'or': 61, 'were': 62, 'be': 63, 'lips': 64, 'he': 65, 'his': 66, 'life': 67, 'down': 68, 'loves': 69, 'man': 70, 'last': 71, 'other': 72, 'at': 73, 'away': 74, 'ashes': 75, 'too': 76, 'eyes': 77, 'around': 78, 'as': 79, 'still': 80, 'head': 81, 'mine': 82, \"i'm\": 83, 'their': 84, 'way': 85, 'left': 86, 'gave': 87, 'fall': 88, 'dust': 89, 'kiss': 90, 'could': 91, 'has': 92, 'poetry': 93, 'air': 94, \"that's\": 95, 'home': 96, 'more': 97, 'dreams': 98, 'god': 99, 'loved': 100, 'lost': 101, 'pure': 102, 'deep': 103, 'pulled': 104, 'feel': 105, 'want': 106, 'into': 107, 'fear': 108, 'day': 109, 'stay': 110, 'started': 111, 'these': 112, 'lust': 113, 'came': 114, 'bed': 115, 'together': 116, 'them': 117, 'while': 118, 'gods': 119, 'body': 120, 'letter': 121, 'broken': 122, 'us': 123, 'why': 124, 'paradise': 125, 'cum': 126, 'finally': 127, 'beautiful': 128, 'smile': 129, 'beauty': 130, 'hurt': 131, 'fight': 132, 'silence': 133, 'fingers': 134, 'how': 135, 'make': 136, 'scars': 137, 'break': 138, 'scar': 139, 'who': 140, 'if': 141, 'night': 142, 'neck': 143, 'hand': 144, 'darkness': 145, 'lungs': 146, 'bit': 147, 'been': 148, 'had': 149, 'demons': 150, 'others': 151, 'tears': 152, 'human': 153, 'death': 154, 'part': 155, 'good': 156, 'beating': 157, 'threw': 158, 'step': 159, 'many': 160, 'go': 161, 'have': 162, 'hate': 163, 'hands': 164, 'sounds': 165, 'own': 166, 'hell': 167, 'keep': 168, 'face': 169, 'touch': 170, 'destiny': 171, 'thorns': 172, 'realized': 173, 'entwined': 174, 'fucked': 175, 'forever': 176, 'bullet': 177, 'goes': 178, 'words': 179, 'minds': 180, 'religion': 181, 'think': 182, 'people': 183, 'most': 184, 'even': 185, 'two': 186, 'till': 187, 'always': 188, 'fell': 189, 'some': 190, 'resort': 191, 'reach': 192, 'yours': 193, 'panties': 194, 'both': 195, 'longing': 196, 'did': 197, 'smiled': 198, 'blood': 199, 'take': 200, 'youre': 201, 'legs': 202, 'inside': 203, 'ever': 204, 'hide': 205, 'slaps': 206, 'turn': 207, 'leave': 208, 'beat': 209, 'hair': 210, 'skin': 211, 'can': 212, 'kisses': 213, 'going': 214, 'world': 215, 'making': 216, 'lie': 217, 'throat': 218, 'absence': 219, 'sound': 220, 'pink': 221, 'undressing': 222, 'trust': 223, 'believed': 224, 'mind': 225, 'heaven': 226, 'through': 227, 'ended': 228, 'between': 229, 'missing': 230, 'cure': 231, 'gun': 232, 'trigger': 233, 'an': 234, 'fire': 235, 'baby': 236, 'girl': 237, 'consumed': 238, 'brain': 239, 'yet': 240, 'so': 241, 'alone': 242, 'best': 243, 'lived': 244, 'waiting': 245, \"it's\": 246, 'crown': 247, \"there's\": 248, 'those': 249, 'listen': 250, 'kind': 251, 'bled': 252, 'thoughts': 253, 'wild': 254, 'felt': 255, 'sword': 256, 'drug': 257, 'matter': 258, 'heal': 259, 'should': 260, 'stop': 261, 'doing': 262, 'grab': 263, 'again': 264, 'pull': 265, 'wondering': 266, 'whom': 267, 'because': 268, 'bones': 269, 'glistened': 270, 'until': 271, 'cant': 272, 'without': 273, 'forget': 274, 'whole': 275, 'cranium': 276, 'lovers': 277, 'souls': 278, 'memories': 279, 'maybe': 280, 'abyss': 281, 'here': 282, 'curse': 283, 'red': 284, 'clutched': 285, 'wards': 286, 'exposing': 287, 'open': 288, 'mouth': 289, 'gasping': 290, 'slither': 291, 'choked': 292, 'devil': 293, 'save': 294, 'another': 295, 'than': 296, 'get': 297, 'bust': 298, 'lies': 299, 'rocked': 300, 'cradle': 301, 'gripped': 302, 'fed': 303, 'taking': 304, 'whats': 305, 'plate': 306, 'helped': 307, 'build': 308, 'first': 309, 'sand': 310, 'castle': 311, 'shattering': 312, 'sharp': 313, 'ignore': 314, 'free': 315, 'discovered': 316, 'reality': 317, 'along': 318, 'spine': 319, 'reasons': 320, 'sins': 321, 'muse': 322, 'heartbreaks': 323, 'caused': 324, 'built': 325, 'sacred': 326, 'promises': 327, 'broke': 328, 'such': 329, 'grace': 330, 'knew': 331, 'childhoods': 332, 'mother': 333, 'brother': 334, 'sent': 335, 'torrents': 336, 'rain': 337, 'makes': 338, 'inhale': 339, 'fast': 340, 'exhale': 341, 'slowly': 342, 'punctuation': 343, 'coded': 344, 'dna': 345, 'long': 346, 'points': 347, 'single': 348, 'pulls': 349, 'bang': 350, 'falls': 351, 'blissful': 352, 'oblivion': 353, 'happiness': 354, 'thought': 355, 'heaving': 356, 'chest': 357, 'knocked': 358, 'families': 359, 'leaving': 360, 'stagnant': 361, 'desires': 362, 'ached': 363, 'wrong': 364, 'places': 365, 'ignored': 366, 'vanilla': 367, 'daddy': 368, 'bleeding': 369, 'ran': 370, 'core': 371, 'stone': 372, 'undressed': 373, 'tastes': 374, 'fantasies': 375, \"other's\": 376, 'stood': 377, 'fully': 378, 'clothed': 379, 'cannot': 380, 'next': 381, 'thing': 382, 'flash': 383, 'joy': 384, 'grief': 385, 'contrast': 386, 'emotions': 387, 'facial': 388, 'canvas': 389, 'vowed': 390, 'few': 391, 'ones': 392, 'hopelessly': 393, 'win': 394, 'loss': 395, 'evil': 396, 'though': 397, 'bays': 398, 'wont': 399, 'company': 400, 'abandoned': 401, 'sympathize': 402, 'alas': 403, 'unravel': 404, 'show': 405, \"who's\": 406, 'charge': 407, 'bleed': 408, 'hated': 409, 'hatred': 410, 'mark': 411, 'territory': 412, 'wets': 413, 'precum': 414, 'acknowledge': 415, 'humanity': 416, \"we've\": 417, 'completely': 418, 'corrupt': 419, 'essence': 420, 'drive': 421, 'unstoppable': 422, 'anger': 423, 'scorching': 424, 'cocaine': 425, 'paper': 426, 'stopping': 427, 'giving': 428, 'opportunities': 429, 'swim': 430, 'sorrow': 431, 'engulfed': 432, 'within': 433, 'under': 434, 'familiar': 435, 'once': 436, 'realises': 437, 'began': 438, 'walk': 439, 'wrists': 440, 'ask': 441, 'pieces': 442, 'punctured': 443, 'atrium': 444, 'direction': 445, 'dripping': 446, 'chin': 447, 'thank': 448, 'gift': 449, 'immortality': 450, 'try': 451, 'breathe': 452, 'half': 453, 'full': 454, 'calves': 455, 'heavy': 456, 'slows': 457, 'reminded': 458, 'deteriorate': 459, 'opened': 460, 'wider': 461, 'buried': 462, 'sorrows': 463, 'warm': 464, 'warnings': 465, 'given': 466, 'wake': 467, 'monsters': 468, 'chase': 469, 'forearm': 470, 'watch': 471, 'tell': 472, 'hard': 473, 'tries': 474, 'run': 475, 'seeing': 476, 'throw': 477, 'against': 478, 'wall': 479, 'sinking': 480, 'teeth': 481, 'enough': 482, 'expose': 483, 'fuck': 484, 'mad': 485, 'control': 486, 'wonder': 487, 'everyday': 488, 'wanted': 489, 'lap': 490, 'throne': 491, 'flesh': 492, 'jewels': 493, 'arms': 494, 'shield': 495, 'kingdom': 496, 'morning': 497, 'dew': 498, 'thick': 499, 'patch': 500, 'wasnt': 501, 'bloody': 502, 'off': 503, 'beings': 504, 'thats': 505, 'literally': 506, 'forward': 507, 'right': 508, 'hurts': 509, 'angel': 510, 'much': 511, 'pictures': 512, 'ejaculate': 513, 'hearts': 514, 'bay': 515, 'stunk': 516, 'become': 517, 'speak': 518, 'magic': 519, 'voices': 520, 'music': 521, 'burn': 522, 'dare': 523, 'would': 524, 'carresed': 525, 'stand': 526, 'am': 527, 'very': 528, '24th': 529, 'july': 530, 'anymore': 531, 'little': 532, 'wilted': 533, 'rose': 534, 'cold': 535, 'light': 536, 'thus': 537, 'drop': 538, 'name': 539, 'point': 540, 'craved': 541, 'strangers': 542, 'adorned': 543, 'keeps': 544, 'gets': 545, 'rather': 546, 'bad': 547, 'also': 548, 'believe': 549, 'series': 550, 'frantically': 551, 'tightly': 552, 'embracing': 553, 'before': 554, 'consuming': 555, 'went': 556, 'further': 557, 'layers': 558, 'embraced': 559, 'cursed': 560, \"madman's\": 561, 'easily': 562, 'furiously': 563, 'burst': 564, 'flames': 565, 'else': 566, 'crazy': 567, 'losing': 568, 'loud': 569, 'everything': 570, 'beleive': 571, 'monster': 572, 'none': 573, 'unsure': 574, 'entirety': 575, 'beasts': 576, 'claws': 577, 'vulnerability': 578, 'giant': 579, 'size': 580, 'immobility': 581, 'realize': 582, 'concept': 583, 'concocted': 584, 'difference': 585, 'hold': 586, 'breath': 587, 'dirt': 588, 'fills': 589, 'overflows': 590, 'nostrils': 591, 'shut': 592, 'covers': 593, 'quite': 594, 'move': 595, 'valley': 596, 'dimples': 597, 'above': 598, 'arse': 599, 'jiggle': 600, 'belly': 601, 'musk': 602, 'thighs': 603, 'blur': 604, 'line': 605, 'chaos': 606, 'honest': 607, 'blues': 608, 'stir': 609, 'peace': 610, 'wreak': 611, 'chas': 612, 'takes': 613, 'deepintoo': 614, 'reduced': 615, 'mere': 616, 'ubiquitous': 617, 'infinity': 618, 'wetness': 619, 'set': 620, 'veins': 621, 'dementia': 622, \"lord's\": 623, 'childhood': 624, 'stonehearted': 625, 'crevices': 626, 'trembled': 627, 'capillaries': 628, 'surface': 629, 'hearted': 630, 'queen': 631, 'ensures': 632, 'balance': 633, 'reminds': 634, 'lose': 635, 'hope': 636, 'learnt': 637, 'game': 638, 'somehow': 639, 'dealt': 640, 'stayed': 641, 'sleeve': 642, 'shields': 643, 'struck': 644, 'dagger': 645, 'energy': 646, 'fades': 647, 'drives': 648, 'differently': 649, 'tore': 650, 'writer': 651, 'about': 652, 'allow': 653, 'mess': 654, 'refused': 655, 'clean': 656, 'smithereens': 657, 'denying': 658, 'worry': 659, 'flutters': 660, 'breasts': 661, 'ripple': 662, 'thrust': 663, 'quickly': 664, 'bites': 665, 'dry': 666, 'shakes': 667, 'fro': 668, 'pretend': 669, 'truth': 670, 'trying': 671, 'survive': 672, 'choas': 673, 'stripped': 674, 'folded': 675, 'four': 676, 'changes': 677, 'gold': 678, 'rust': 679, 'sequins': 680, 'diamonds': 681, 'spreading': 682, 'plunge': 683, 'forth': 684, 'scared': 685, 'afraid': 686, 'chance': 687, 'competition': 688, 'mental': 689, 'image': 690, 'sting': 691, 'tried': 692, 'poured': 693, '6ut': 694, 'breams': 695, 'beens': 696, 'haunt': 697, 'taunt': 698, 'movies': 699, 'song': 700, 'sends': 701, 'wisp': 702, 'pile': 703, 'dead': 704, 'butterflies': 705, 'flutter': 706, 'wrinkled': 707, 'wings': 708, 'swing': 709, 'dance': 710, 'come': 711, 'crashing': 712, 'dawn': 713, 'healed': 714, 'quenched': 715, 'thirst': 716, 'mended': 717, 'pride': 718, 'passion': 719, 'took': 720, 'warriors': 721, 'disrobe': 722, 'suits': 723, 'armor': 724, 'after': 725, 'handing': 726, 'look': 727, 'swear': 728, 'lift': 729, 'axis': 730, 'use': 731, 'stepping': 732, 'sweat': 733, 'bodies': 734, 'poisoned': 735, 'promise': 736, 'eternal': 737, 'wounds': 738, 'regret': 739, 'content': 740, 'hardest': 741, 'undo': 742, 'myself': 743, 'ill': 744, 'appologize': 745, 'coming': 746, 'yeu': 747, 'same': 748, 'paths': 749, 'tread': 750, 'barely': 751, 'live': 752, 'piece': 753, 'frame': 754, 'kissed': 755, 'new': 756, 'hugged': 757, 'crack': 758, 'il': 759, 'blue': 760, 'black': 761, 'laced': 762, 'surviving': 763, 'drowning': 764, 'oh': 765, 'symphony': 766, 'orchestrated': 767, 'crumbling': 768, 'gh': 769, 'awake': 770, 'sorry': 771, 'tooo': 772, 'please': 773, 'sulphur': 774, 'innocence': 775, 'devilish': 776, 'allure': 777, 'flags': 778, 'say': 779, 'mean': 780, 'rebish': 781, 'screamed': 782, 'ready': 783, 'prick': 784, 'yearning': 785, 'someone': 786, 'redish': 787, 'outside': 788, 'drank': 789, 'infinite': 790, 'vase': 791, 'pouring': 792, 'sea': 793, 'water': 794, 'gut': 795, 'curling': 796, 'circumference': 797, '6of': 798, 'sending': 799, 'shivers': 800, 'damn': 801, 'realest': 802, 'feeling': 803, 'measure': 804, 'coldness': 805, 'heat': 806, 'put': 807, 'alienated': 808, 'pity': 809, 'simple': 810, 'frail': 811, 'know': 812, 'trickery': 813, 'crepuscule': 814, 'twilight': 815, 'seduces': 816, 'avenges': 817, 'ignorance': 818, 'over': 819, 'villainous': 820, \"darkness'\": 821, 'sole': 822, 'companion': 823, 'preach': 824, 'carpe': 825, 'noctem': 826, 'rise': 827, 'curves': 828, 'wrote': 829, 'shared': 830, 'explore': 831, 'crevice': 832, 'n': 833, 'bare': 834, 'tongue': 835, 'beyond': 836, 'repair': 837, \"i've\": 838, 'reached': 839, 'where': 840, 'acting': 841, 'alternatively': 842, 'bont': 843, 'glasses': 844, 'braces': 845, 'prety': 846, 'wearing': 847, 'gracious': 848, 'faces': 849, 'dear': 850, 'lord': 851, 'breaking': 852, 'passing': 853, 'passed': 854, 'pimples': 855, 'nipples': 856, 'cunt': 857, 'bouquet': 858, 'roses': 859, 'prayer': 860, 'self': 861, 'affirmation': 862, 'safe': 863, 'jail': 864, 'escape': 865, 'sake': 866, 'goodness': 867, 'different': 868, 'entities': 869, 'accredited': 870, 'sometimes': 871, 'punishment': 872, 'asks': 873, 'return': 874, 'blind': 875, 'faith': 876, 'realise': 877, \"you've\": 878, 'sinful': 879, 'boring': 880, 'late': 881, 'give': 882, 'deserve': 883, 'questions': 884, 'answers': 885, \"what's\": 886, 'important': 887, 'chose': 888, 'detox': 889, 'favorite': 890, 'seduced': 891, 'kills': 892, \"he's\": 893, 'hat': 894, 'spews': 895, 'wheo': 896, 'stronger': 897, 'bite': 898, 'im': 899, 'motherfucker': 900, 'bitch': 901, 'owned': 902, 'vocabulary': 903, 'saved': 904, 'herself': 905, 'rest': 906, 'pumped': 907, 'liver': 908, 'lasted': 909, 'several': 910, 'rounds': 911, 'whiskey': 912, 'pair': 913, 'exhaled': 914, 'anything': 915, 'smoked': 916, 'conceived': 917, 'intricate': 918, 'fought': 919, 'often': 920, 'walked': 921, 'stumbled': 922, 'rod': 923, 'manhood': 924, 'harder': 925, 'probably': 926, 'shall': 927, 'rule': 928, 'childhogod': 929, 'happen': 930, 'grip': 931, 'images': 932, 'slow': 933, 'sucked': 934, 'peripheral': 935, 'vision': 936, 'momentum': 937, 'centrifugal': 938, 'force': 939, 'lowers': 940, 'front': 941, 'wheel': 942, 'begins': 943, 'wobble': 944, 'tarmac': 945, 'sliding': 946, 'across': 947, 'stops': 948, 'resting': 949, 'complex': 950, 'actions': 951, 'wished': 952, 'painter': 953, 'painted': 954, 'poet': 955, 'published': 956, 'shedding': 957, 'tear': 958, 'stopped': 959, 'slowed': 960, 'turned': 961, 'blinked': 962, 'happy': 963, 'endings': 964, 'worth': 965, 'fighting': 966, 'demonic': 967, 'satanic': 968, 'spend': 969, 'lives': 970, 'running': 971, 'end': 972, 'miracles': 973, 'knees': 974, 'refuse': 975, 'granted': 976, 'forgiveness': 977, 'clasped': 978, 'praying': 979, 'healing': 980, 'longer': 981, 'gouge': 982, 'severe': 983, 'limbs': 984, 'puncture': 985, 'rip': 986, 'mortals': 987, 'pray': 988, 'immortals': 989, 'ripped': 990, 'shreds': 991, 'spells': 992, 'potions': 993, 'hew': 994, 'treasured': 995, 'prefrontal': 996, 'cortex': 997, 'etched': 998, 'television': 999, 'playing': 1000, 'distance': 1001, 'laughter': 1002, 'smirks': 1003, 'smilesno': 1004, 'utensils': 1005, 'clinking': 1006, 'footsteps': 1007, 'vehicles': 1008, 'honking': 1009, 'dogs': 1010, 'barking': 1011, 'birds': 1012, 'chirping': 1013, 'fans': 1014, 'spinning': 1015, 'doors': 1016, 'opening': 1017, 'nothing': 1018}\n",
      "1019\n"
     ]
    }
   ],
   "source": [
    "print(tokenizer.word_index)\n",
    "print(total_words)"
   ]
  },
  {
   "cell_type": "code",
   "execution_count": 15,
   "id": "95fb2b56",
   "metadata": {},
   "outputs": [
    {
     "data": {
      "text/plain": [
       "{'<OOV>': 1,\n",
       " 'the': 2,\n",
       " 'i': 3,\n",
       " 'her': 4,\n",
       " 'and': 5,\n",
       " 'my': 6,\n",
       " 'to': 7,\n",
       " 'she': 8,\n",
       " 'you': 9,\n",
       " 'of': 10}"
      ]
     },
     "execution_count": 15,
     "metadata": {},
     "output_type": "execute_result"
    }
   ],
   "source": [
    "dict(list(tokenizer.word_index.items())[0:10])"
   ]
  },
  {
   "cell_type": "markdown",
   "id": "2d788d42",
   "metadata": {},
   "source": [
    "## create ngrams"
   ]
  },
  {
   "cell_type": "code",
   "execution_count": 16,
   "id": "f0c103c0",
   "metadata": {},
   "outputs": [],
   "source": [
    "input_sequences = []\n",
    "for line in p:\n",
    "\ttoken_list = tokenizer.texts_to_sequences([line])[0]\n",
    "\tfor i in range(1, len(token_list)):\n",
    "\t\tn_gram_sequence = token_list[:i+1]\n",
    "\t\tinput_sequences.append(n_gram_sequence)"
   ]
  },
  {
   "cell_type": "code",
   "execution_count": 17,
   "id": "3e9d601e",
   "metadata": {},
   "outputs": [],
   "source": [
    "# pad sequences \n",
    "max_sequence_len = max([len(x) for x in input_sequences])\n",
    "input_sequences = np.array(pad_sequences(input_sequences, maxlen=max_sequence_len, padding='pre'))"
   ]
  },
  {
   "cell_type": "code",
   "execution_count": 18,
   "id": "ad30c0d9",
   "metadata": {},
   "outputs": [
    {
     "data": {
      "text/plain": [
       "array([[  0,   0,   0, ...,   0,  22, 108],\n",
       "       [  0,   0,   0, ...,  22, 108,   2],\n",
       "       [  0,   0,   0, ..., 108,   2, 145],\n",
       "       ...,\n",
       "       [  0,   0,   0, ...,  82,  26,   6],\n",
       "       [  0,   0,   0, ...,  26,   6,  30],\n",
       "       [  0,   0,   0, ...,   6,  30, 501]])"
      ]
     },
     "execution_count": 18,
     "metadata": {},
     "output_type": "execute_result"
    }
   ],
   "source": [
    "input_sequences"
   ]
  },
  {
   "cell_type": "code",
   "execution_count": 19,
   "id": "d7af8d4b",
   "metadata": {},
   "outputs": [],
   "source": [
    "# create predictors and label\n",
    "xs, labels = input_sequences[:,:-1],input_sequences[:,-1]\n",
    "\n",
    "ys = tf.keras.utils.to_categorical(labels, num_classes=total_words)"
   ]
  },
  {
   "cell_type": "code",
   "execution_count": 20,
   "id": "aeb2e6d0",
   "metadata": {},
   "outputs": [
    {
     "name": "stdout",
     "output_type": "stream",
     "text": [
      "22\n",
      "108\n",
      "2\n",
      "145\n",
      "17\n",
      "22\n",
      "27\n",
      "574\n"
     ]
    }
   ],
   "source": [
    "print(tokenizer.word_index['we'])\n",
    "print(tokenizer.word_index['fear'])\n",
    "print(tokenizer.word_index['the'])\n",
    "print(tokenizer.word_index['darkness'])\n",
    "print(tokenizer.word_index['for'])\n",
    "print(tokenizer.word_index['we'])\n",
    "print(tokenizer.word_index['are'])\n",
    "print(tokenizer.word_index['unsure'])"
   ]
  },
  {
   "cell_type": "code",
   "execution_count": 21,
   "id": "15dd1084",
   "metadata": {},
   "outputs": [
    {
     "data": {
      "text/plain": [
       "array([  0,   0,   0,   0,   0,   0,   0,   0,   0,   0,   0,   0,   0,\n",
       "         0,   0,   0,   0,   0,   0,   0,   0,   0,   0,   0,   0,   0,\n",
       "         0,   0,   0,   0,   0,   0,   0,   0,   0,   0,   0,   0,   0,\n",
       "         0,   0,   0,   0,   0,   0,   0,   0,   0,   0,   0,   0,   0,\n",
       "         0,   0,   0,   0,   0,   0,   0,   0,   0,   0,   0,   0,   0,\n",
       "         0,   0,   0,   0,   0,   0,   0,   0,   0,   0,   0,   0,   0,\n",
       "         0,   0,   0,   0,   0,   0,   0,   0,   0,   0,   0,   0,   0,\n",
       "         0,   0,   0,   0,   0,   0,   0,   0,   0,   0,   0,   0,   0,\n",
       "         0,   0,   0,   0,   0,   0,   0,   0,   0,   0,   0,   0,   0,\n",
       "         0,   0,   0,   0,   0,   0,   0,   0,   0,   0,   0,   0,   0,\n",
       "         0,   0,  22, 108,   2, 145,  17,  22,  27])"
      ]
     },
     "execution_count": 21,
     "metadata": {},
     "output_type": "execute_result"
    }
   ],
   "source": [
    "xs[6]"
   ]
  },
  {
   "cell_type": "code",
   "execution_count": 22,
   "id": "1863c2d0",
   "metadata": {},
   "outputs": [
    {
     "name": "stdout",
     "output_type": "stream",
     "text": [
      "[0. 0. 0. ... 0. 0. 0.]\n"
     ]
    }
   ],
   "source": [
    "print(ys[6])"
   ]
  },
  {
   "cell_type": "code",
   "execution_count": 23,
   "id": "6922d046",
   "metadata": {},
   "outputs": [
    {
     "name": "stdout",
     "output_type": "stream",
     "text": [
      "[  0   0   0   0   0   0   0   0   0   0   0   0   0   0   0   0   0   0\n",
      "   0   0   0   0   0   0   0   0   0   0   0   0   0   0   0   0   0   0\n",
      "   0   0   0   0   0   0   0   0   0   0   0   0   0   0   0   0   0   0\n",
      "   0   0   0   0   0   0   0   0   0   0   0   0   0   0   0   0   0   0\n",
      "   0   0   0   0   0   0   0   0   0   0   0   0   0   0   0   0   0   0\n",
      "   0   0   0   0   0   0   0   0   0   0   0   0   0   0   0   0   0   0\n",
      "   0   0   0   0   0   0   0   0   0   0   0   0   0   0   0   0   0   0\n",
      "   0   0   0   0   0   0   0  22 108   2 145  17  22]\n",
      "[0. 0. 0. ... 0. 0. 0.]\n"
     ]
    }
   ],
   "source": [
    "print(xs[5])\n",
    "print(ys[5])"
   ]
  },
  {
   "cell_type": "code",
   "execution_count": null,
   "id": "88d11c19",
   "metadata": {},
   "outputs": [],
   "source": []
  },
  {
   "cell_type": "code",
   "execution_count": null,
   "id": "e8408607",
   "metadata": {},
   "outputs": [],
   "source": []
  },
  {
   "cell_type": "code",
   "execution_count": null,
   "id": "4e650e2f",
   "metadata": {},
   "outputs": [],
   "source": []
  },
  {
   "cell_type": "markdown",
   "id": "70465a94",
   "metadata": {},
   "source": [
    "# Train a model"
   ]
  },
  {
   "cell_type": "code",
   "execution_count": 24,
   "id": "74d8da8f",
   "metadata": {},
   "outputs": [],
   "source": [
    "from tensorflow.keras.layers import Embedding, LSTM, Dense, Bidirectional\n",
    "from tensorflow.keras.models import Sequential\n",
    "from tensorflow.keras.optimizers import Adam"
   ]
  },
  {
   "cell_type": "code",
   "execution_count": 25,
   "id": "f18a4e40",
   "metadata": {},
   "outputs": [],
   "source": [
    "  model = Sequential()\n",
    "  model.add(Embedding(total_words, 20, input_length=max_sequence_len-1))\n",
    "  model.add(Bidirectional(LSTM(20)))\n",
    "  model.add(Dense(total_words, activation='softmax'))"
   ]
  },
  {
   "cell_type": "code",
   "execution_count": 26,
   "id": "6cc4097f",
   "metadata": {},
   "outputs": [
    {
     "name": "stdout",
     "output_type": "stream",
     "text": [
      "Model: \"sequential_1\"\n",
      "_________________________________________________________________\n",
      "Layer (type)                 Output Shape              Param #   \n",
      "=================================================================\n",
      "embedding (Embedding)        (None, 139, 20)           20380     \n",
      "_________________________________________________________________\n",
      "bidirectional (Bidirectional (None, 40)                6560      \n",
      "_________________________________________________________________\n",
      "dense (Dense)                (None, 1019)              41779     \n",
      "=================================================================\n",
      "Total params: 68,719\n",
      "Trainable params: 68,719\n",
      "Non-trainable params: 0\n",
      "_________________________________________________________________\n"
     ]
    }
   ],
   "source": [
    "model.summary()"
   ]
  },
  {
   "cell_type": "code",
   "execution_count": 27,
   "id": "af9d3d70",
   "metadata": {},
   "outputs": [
    {
     "name": "stdout",
     "output_type": "stream",
     "text": [
      "Epoch 1/400\n",
      "141/141 [==============================] - 11s 76ms/step - loss: 6.3669 - accuracy: 0.0320\n",
      "Epoch 2/400\n",
      "141/141 [==============================] - 10s 74ms/step - loss: 5.8760 - accuracy: 0.0380\n",
      "Epoch 3/400\n",
      "141/141 [==============================] - 10s 74ms/step - loss: 5.7942 - accuracy: 0.0380\n",
      "Epoch 4/400\n",
      "141/141 [==============================] - 11s 76ms/step - loss: 5.7114 - accuracy: 0.0380\n",
      "Epoch 5/400\n",
      "141/141 [==============================] - 11s 76ms/step - loss: 5.6483 - accuracy: 0.0382\n",
      "Epoch 6/400\n",
      "141/141 [==============================] - 11s 76ms/step - loss: 5.6007 - accuracy: 0.0358\n",
      "Epoch 7/400\n",
      "141/141 [==============================] - 11s 80ms/step - loss: 5.5614 - accuracy: 0.0398\n",
      "Epoch 8/400\n",
      "141/141 [==============================] - 12s 84ms/step - loss: 5.5306 - accuracy: 0.0405\n",
      "Epoch 9/400\n",
      "141/141 [==============================] - 11s 80ms/step - loss: 5.5046 - accuracy: 0.0440\n",
      "Epoch 10/400\n",
      "141/141 [==============================] - 11s 78ms/step - loss: 5.4799 - accuracy: 0.0469\n",
      "Epoch 11/400\n",
      "141/141 [==============================] - 11s 76ms/step - loss: 5.4558 - accuracy: 0.0467\n",
      "Epoch 12/400\n",
      "141/141 [==============================] - 11s 75ms/step - loss: 5.4332 - accuracy: 0.0496\n",
      "Epoch 13/400\n",
      "141/141 [==============================] - 11s 78ms/step - loss: 5.4098 - accuracy: 0.0511\n",
      "Epoch 14/400\n",
      "141/141 [==============================] - 12s 84ms/step - loss: 5.3877 - accuracy: 0.0525\n",
      "Epoch 15/400\n",
      "141/141 [==============================] - 12s 84ms/step - loss: 5.3637 - accuracy: 0.0520\n",
      "Epoch 16/400\n",
      "141/141 [==============================] - 12s 84ms/step - loss: 5.3384 - accuracy: 0.0523\n",
      "Epoch 17/400\n",
      "141/141 [==============================] - 11s 78ms/step - loss: 5.3108 - accuracy: 0.0554\n",
      "Epoch 18/400\n",
      "141/141 [==============================] - 11s 80ms/step - loss: 5.2848 - accuracy: 0.0576\n",
      "Epoch 19/400\n",
      "141/141 [==============================] - 12s 82ms/step - loss: 5.2581 - accuracy: 0.0618\n",
      "Epoch 20/400\n",
      "141/141 [==============================] - 11s 80ms/step - loss: 5.2333 - accuracy: 0.0627\n",
      "Epoch 21/400\n",
      "141/141 [==============================] - 11s 80ms/step - loss: 5.2094 - accuracy: 0.0692\n",
      "Epoch 22/400\n",
      "138/141 [============================>.] - ETA: 0s - loss: 5.1790 - accuracy: 0.0684"
     ]
    },
    {
     "ename": "KeyboardInterrupt",
     "evalue": "",
     "output_type": "error",
     "traceback": [
      "\u001b[1;31m---------------------------------------------------------------------------\u001b[0m",
      "\u001b[1;31mKeyboardInterrupt\u001b[0m                         Traceback (most recent call last)",
      "\u001b[1;32mC:\\Users\\SHIBIN~1\\AppData\\Local\\Temp/ipykernel_5576/1481629019.py\u001b[0m in \u001b[0;36m<module>\u001b[1;34m\u001b[0m\n\u001b[0;32m      1\u001b[0m \u001b[0mmodel\u001b[0m\u001b[1;33m.\u001b[0m\u001b[0mcompile\u001b[0m\u001b[1;33m(\u001b[0m\u001b[0mloss\u001b[0m\u001b[1;33m=\u001b[0m\u001b[1;34m'categorical_crossentropy'\u001b[0m\u001b[1;33m,\u001b[0m \u001b[0moptimizer\u001b[0m\u001b[1;33m=\u001b[0m\u001b[1;34m'adam'\u001b[0m\u001b[1;33m,\u001b[0m \u001b[0mmetrics\u001b[0m\u001b[1;33m=\u001b[0m\u001b[1;33m[\u001b[0m\u001b[1;34m'accuracy'\u001b[0m\u001b[1;33m]\u001b[0m\u001b[1;33m)\u001b[0m\u001b[1;33m\u001b[0m\u001b[1;33m\u001b[0m\u001b[0m\n\u001b[1;32m----> 2\u001b[1;33m \u001b[0mhistory\u001b[0m \u001b[1;33m=\u001b[0m \u001b[0mmodel\u001b[0m\u001b[1;33m.\u001b[0m\u001b[0mfit\u001b[0m\u001b[1;33m(\u001b[0m\u001b[0mxs\u001b[0m\u001b[1;33m,\u001b[0m \u001b[0mys\u001b[0m\u001b[1;33m,\u001b[0m \u001b[0mepochs\u001b[0m\u001b[1;33m=\u001b[0m\u001b[1;36m400\u001b[0m\u001b[1;33m,\u001b[0m \u001b[0mverbose\u001b[0m\u001b[1;33m=\u001b[0m\u001b[1;36m1\u001b[0m\u001b[1;33m)\u001b[0m\u001b[1;33m\u001b[0m\u001b[1;33m\u001b[0m\u001b[0m\n\u001b[0m",
      "\u001b[1;32m~\\anaconda3\\lib\\site-packages\\tensorflow\\python\\keras\\engine\\training.py\u001b[0m in \u001b[0;36m_method_wrapper\u001b[1;34m(self, *args, **kwargs)\u001b[0m\n\u001b[0;32m    106\u001b[0m   \u001b[1;32mdef\u001b[0m \u001b[0m_method_wrapper\u001b[0m\u001b[1;33m(\u001b[0m\u001b[0mself\u001b[0m\u001b[1;33m,\u001b[0m \u001b[1;33m*\u001b[0m\u001b[0margs\u001b[0m\u001b[1;33m,\u001b[0m \u001b[1;33m**\u001b[0m\u001b[0mkwargs\u001b[0m\u001b[1;33m)\u001b[0m\u001b[1;33m:\u001b[0m\u001b[1;33m\u001b[0m\u001b[1;33m\u001b[0m\u001b[0m\n\u001b[0;32m    107\u001b[0m     \u001b[1;32mif\u001b[0m \u001b[1;32mnot\u001b[0m \u001b[0mself\u001b[0m\u001b[1;33m.\u001b[0m\u001b[0m_in_multi_worker_mode\u001b[0m\u001b[1;33m(\u001b[0m\u001b[1;33m)\u001b[0m\u001b[1;33m:\u001b[0m  \u001b[1;31m# pylint: disable=protected-access\u001b[0m\u001b[1;33m\u001b[0m\u001b[1;33m\u001b[0m\u001b[0m\n\u001b[1;32m--> 108\u001b[1;33m       \u001b[1;32mreturn\u001b[0m \u001b[0mmethod\u001b[0m\u001b[1;33m(\u001b[0m\u001b[0mself\u001b[0m\u001b[1;33m,\u001b[0m \u001b[1;33m*\u001b[0m\u001b[0margs\u001b[0m\u001b[1;33m,\u001b[0m \u001b[1;33m**\u001b[0m\u001b[0mkwargs\u001b[0m\u001b[1;33m)\u001b[0m\u001b[1;33m\u001b[0m\u001b[1;33m\u001b[0m\u001b[0m\n\u001b[0m\u001b[0;32m    109\u001b[0m \u001b[1;33m\u001b[0m\u001b[0m\n\u001b[0;32m    110\u001b[0m     \u001b[1;31m# Running inside `run_distribute_coordinator` already.\u001b[0m\u001b[1;33m\u001b[0m\u001b[1;33m\u001b[0m\u001b[1;33m\u001b[0m\u001b[0m\n",
      "\u001b[1;32m~\\anaconda3\\lib\\site-packages\\tensorflow\\python\\keras\\engine\\training.py\u001b[0m in \u001b[0;36mfit\u001b[1;34m(self, x, y, batch_size, epochs, verbose, callbacks, validation_split, validation_data, shuffle, class_weight, sample_weight, initial_epoch, steps_per_epoch, validation_steps, validation_batch_size, validation_freq, max_queue_size, workers, use_multiprocessing)\u001b[0m\n\u001b[0;32m   1096\u001b[0m                 batch_size=batch_size):\n\u001b[0;32m   1097\u001b[0m               \u001b[0mcallbacks\u001b[0m\u001b[1;33m.\u001b[0m\u001b[0mon_train_batch_begin\u001b[0m\u001b[1;33m(\u001b[0m\u001b[0mstep\u001b[0m\u001b[1;33m)\u001b[0m\u001b[1;33m\u001b[0m\u001b[1;33m\u001b[0m\u001b[0m\n\u001b[1;32m-> 1098\u001b[1;33m               \u001b[0mtmp_logs\u001b[0m \u001b[1;33m=\u001b[0m \u001b[0mtrain_function\u001b[0m\u001b[1;33m(\u001b[0m\u001b[0miterator\u001b[0m\u001b[1;33m)\u001b[0m\u001b[1;33m\u001b[0m\u001b[1;33m\u001b[0m\u001b[0m\n\u001b[0m\u001b[0;32m   1099\u001b[0m               \u001b[1;32mif\u001b[0m \u001b[0mdata_handler\u001b[0m\u001b[1;33m.\u001b[0m\u001b[0mshould_sync\u001b[0m\u001b[1;33m:\u001b[0m\u001b[1;33m\u001b[0m\u001b[1;33m\u001b[0m\u001b[0m\n\u001b[0;32m   1100\u001b[0m                 \u001b[0mcontext\u001b[0m\u001b[1;33m.\u001b[0m\u001b[0masync_wait\u001b[0m\u001b[1;33m(\u001b[0m\u001b[1;33m)\u001b[0m\u001b[1;33m\u001b[0m\u001b[1;33m\u001b[0m\u001b[0m\n",
      "\u001b[1;32m~\\anaconda3\\lib\\site-packages\\tensorflow\\python\\eager\\def_function.py\u001b[0m in \u001b[0;36m__call__\u001b[1;34m(self, *args, **kwds)\u001b[0m\n\u001b[0;32m    778\u001b[0m       \u001b[1;32melse\u001b[0m\u001b[1;33m:\u001b[0m\u001b[1;33m\u001b[0m\u001b[1;33m\u001b[0m\u001b[0m\n\u001b[0;32m    779\u001b[0m         \u001b[0mcompiler\u001b[0m \u001b[1;33m=\u001b[0m \u001b[1;34m\"nonXla\"\u001b[0m\u001b[1;33m\u001b[0m\u001b[1;33m\u001b[0m\u001b[0m\n\u001b[1;32m--> 780\u001b[1;33m         \u001b[0mresult\u001b[0m \u001b[1;33m=\u001b[0m \u001b[0mself\u001b[0m\u001b[1;33m.\u001b[0m\u001b[0m_call\u001b[0m\u001b[1;33m(\u001b[0m\u001b[1;33m*\u001b[0m\u001b[0margs\u001b[0m\u001b[1;33m,\u001b[0m \u001b[1;33m**\u001b[0m\u001b[0mkwds\u001b[0m\u001b[1;33m)\u001b[0m\u001b[1;33m\u001b[0m\u001b[1;33m\u001b[0m\u001b[0m\n\u001b[0m\u001b[0;32m    781\u001b[0m \u001b[1;33m\u001b[0m\u001b[0m\n\u001b[0;32m    782\u001b[0m       \u001b[0mnew_tracing_count\u001b[0m \u001b[1;33m=\u001b[0m \u001b[0mself\u001b[0m\u001b[1;33m.\u001b[0m\u001b[0m_get_tracing_count\u001b[0m\u001b[1;33m(\u001b[0m\u001b[1;33m)\u001b[0m\u001b[1;33m\u001b[0m\u001b[1;33m\u001b[0m\u001b[0m\n",
      "\u001b[1;32m~\\anaconda3\\lib\\site-packages\\tensorflow\\python\\eager\\def_function.py\u001b[0m in \u001b[0;36m_call\u001b[1;34m(self, *args, **kwds)\u001b[0m\n\u001b[0;32m    805\u001b[0m       \u001b[1;31m# In this case we have created variables on the first call, so we run the\u001b[0m\u001b[1;33m\u001b[0m\u001b[1;33m\u001b[0m\u001b[1;33m\u001b[0m\u001b[0m\n\u001b[0;32m    806\u001b[0m       \u001b[1;31m# defunned version which is guaranteed to never create variables.\u001b[0m\u001b[1;33m\u001b[0m\u001b[1;33m\u001b[0m\u001b[1;33m\u001b[0m\u001b[0m\n\u001b[1;32m--> 807\u001b[1;33m       \u001b[1;32mreturn\u001b[0m \u001b[0mself\u001b[0m\u001b[1;33m.\u001b[0m\u001b[0m_stateless_fn\u001b[0m\u001b[1;33m(\u001b[0m\u001b[1;33m*\u001b[0m\u001b[0margs\u001b[0m\u001b[1;33m,\u001b[0m \u001b[1;33m**\u001b[0m\u001b[0mkwds\u001b[0m\u001b[1;33m)\u001b[0m  \u001b[1;31m# pylint: disable=not-callable\u001b[0m\u001b[1;33m\u001b[0m\u001b[1;33m\u001b[0m\u001b[0m\n\u001b[0m\u001b[0;32m    808\u001b[0m     \u001b[1;32melif\u001b[0m \u001b[0mself\u001b[0m\u001b[1;33m.\u001b[0m\u001b[0m_stateful_fn\u001b[0m \u001b[1;32mis\u001b[0m \u001b[1;32mnot\u001b[0m \u001b[1;32mNone\u001b[0m\u001b[1;33m:\u001b[0m\u001b[1;33m\u001b[0m\u001b[1;33m\u001b[0m\u001b[0m\n\u001b[0;32m    809\u001b[0m       \u001b[1;31m# Release the lock early so that multiple threads can perform the call\u001b[0m\u001b[1;33m\u001b[0m\u001b[1;33m\u001b[0m\u001b[1;33m\u001b[0m\u001b[0m\n",
      "\u001b[1;32m~\\anaconda3\\lib\\site-packages\\tensorflow\\python\\eager\\function.py\u001b[0m in \u001b[0;36m__call__\u001b[1;34m(self, *args, **kwargs)\u001b[0m\n\u001b[0;32m   2827\u001b[0m     \u001b[1;32mwith\u001b[0m \u001b[0mself\u001b[0m\u001b[1;33m.\u001b[0m\u001b[0m_lock\u001b[0m\u001b[1;33m:\u001b[0m\u001b[1;33m\u001b[0m\u001b[1;33m\u001b[0m\u001b[0m\n\u001b[0;32m   2828\u001b[0m       \u001b[0mgraph_function\u001b[0m\u001b[1;33m,\u001b[0m \u001b[0margs\u001b[0m\u001b[1;33m,\u001b[0m \u001b[0mkwargs\u001b[0m \u001b[1;33m=\u001b[0m \u001b[0mself\u001b[0m\u001b[1;33m.\u001b[0m\u001b[0m_maybe_define_function\u001b[0m\u001b[1;33m(\u001b[0m\u001b[0margs\u001b[0m\u001b[1;33m,\u001b[0m \u001b[0mkwargs\u001b[0m\u001b[1;33m)\u001b[0m\u001b[1;33m\u001b[0m\u001b[1;33m\u001b[0m\u001b[0m\n\u001b[1;32m-> 2829\u001b[1;33m     \u001b[1;32mreturn\u001b[0m \u001b[0mgraph_function\u001b[0m\u001b[1;33m.\u001b[0m\u001b[0m_filtered_call\u001b[0m\u001b[1;33m(\u001b[0m\u001b[0margs\u001b[0m\u001b[1;33m,\u001b[0m \u001b[0mkwargs\u001b[0m\u001b[1;33m)\u001b[0m  \u001b[1;31m# pylint: disable=protected-access\u001b[0m\u001b[1;33m\u001b[0m\u001b[1;33m\u001b[0m\u001b[0m\n\u001b[0m\u001b[0;32m   2830\u001b[0m \u001b[1;33m\u001b[0m\u001b[0m\n\u001b[0;32m   2831\u001b[0m   \u001b[1;33m@\u001b[0m\u001b[0mproperty\u001b[0m\u001b[1;33m\u001b[0m\u001b[1;33m\u001b[0m\u001b[0m\n",
      "\u001b[1;32m~\\anaconda3\\lib\\site-packages\\tensorflow\\python\\eager\\function.py\u001b[0m in \u001b[0;36m_filtered_call\u001b[1;34m(self, args, kwargs, cancellation_manager)\u001b[0m\n\u001b[0;32m   1841\u001b[0m       \u001b[0;31m`\u001b[0m\u001b[0margs\u001b[0m\u001b[0;31m`\u001b[0m \u001b[1;32mand\u001b[0m\u001b[0;31m \u001b[0m\u001b[0;31m`\u001b[0m\u001b[0mkwargs\u001b[0m\u001b[0;31m`\u001b[0m\u001b[1;33m.\u001b[0m\u001b[1;33m\u001b[0m\u001b[1;33m\u001b[0m\u001b[0m\n\u001b[0;32m   1842\u001b[0m     \"\"\"\n\u001b[1;32m-> 1843\u001b[1;33m     return self._call_flat(\n\u001b[0m\u001b[0;32m   1844\u001b[0m         [t for t in nest.flatten((args, kwargs), expand_composites=True)\n\u001b[0;32m   1845\u001b[0m          if isinstance(t, (ops.Tensor,\n",
      "\u001b[1;32m~\\anaconda3\\lib\\site-packages\\tensorflow\\python\\eager\\function.py\u001b[0m in \u001b[0;36m_call_flat\u001b[1;34m(self, args, captured_inputs, cancellation_manager)\u001b[0m\n\u001b[0;32m   1921\u001b[0m         and executing_eagerly):\n\u001b[0;32m   1922\u001b[0m       \u001b[1;31m# No tape is watching; skip to running the function.\u001b[0m\u001b[1;33m\u001b[0m\u001b[1;33m\u001b[0m\u001b[1;33m\u001b[0m\u001b[0m\n\u001b[1;32m-> 1923\u001b[1;33m       return self._build_call_outputs(self._inference_function.call(\n\u001b[0m\u001b[0;32m   1924\u001b[0m           ctx, args, cancellation_manager=cancellation_manager))\n\u001b[0;32m   1925\u001b[0m     forward_backward = self._select_forward_and_backward_functions(\n",
      "\u001b[1;32m~\\anaconda3\\lib\\site-packages\\tensorflow\\python\\eager\\function.py\u001b[0m in \u001b[0;36mcall\u001b[1;34m(self, ctx, args, cancellation_manager)\u001b[0m\n\u001b[0;32m    543\u001b[0m       \u001b[1;32mwith\u001b[0m \u001b[0m_InterpolateFunctionError\u001b[0m\u001b[1;33m(\u001b[0m\u001b[0mself\u001b[0m\u001b[1;33m)\u001b[0m\u001b[1;33m:\u001b[0m\u001b[1;33m\u001b[0m\u001b[1;33m\u001b[0m\u001b[0m\n\u001b[0;32m    544\u001b[0m         \u001b[1;32mif\u001b[0m \u001b[0mcancellation_manager\u001b[0m \u001b[1;32mis\u001b[0m \u001b[1;32mNone\u001b[0m\u001b[1;33m:\u001b[0m\u001b[1;33m\u001b[0m\u001b[1;33m\u001b[0m\u001b[0m\n\u001b[1;32m--> 545\u001b[1;33m           outputs = execute.execute(\n\u001b[0m\u001b[0;32m    546\u001b[0m               \u001b[0mstr\u001b[0m\u001b[1;33m(\u001b[0m\u001b[0mself\u001b[0m\u001b[1;33m.\u001b[0m\u001b[0msignature\u001b[0m\u001b[1;33m.\u001b[0m\u001b[0mname\u001b[0m\u001b[1;33m)\u001b[0m\u001b[1;33m,\u001b[0m\u001b[1;33m\u001b[0m\u001b[1;33m\u001b[0m\u001b[0m\n\u001b[0;32m    547\u001b[0m               \u001b[0mnum_outputs\u001b[0m\u001b[1;33m=\u001b[0m\u001b[0mself\u001b[0m\u001b[1;33m.\u001b[0m\u001b[0m_num_outputs\u001b[0m\u001b[1;33m,\u001b[0m\u001b[1;33m\u001b[0m\u001b[1;33m\u001b[0m\u001b[0m\n",
      "\u001b[1;32m~\\anaconda3\\lib\\site-packages\\tensorflow\\python\\eager\\execute.py\u001b[0m in \u001b[0;36mquick_execute\u001b[1;34m(op_name, num_outputs, inputs, attrs, ctx, name)\u001b[0m\n\u001b[0;32m     57\u001b[0m   \u001b[1;32mtry\u001b[0m\u001b[1;33m:\u001b[0m\u001b[1;33m\u001b[0m\u001b[1;33m\u001b[0m\u001b[0m\n\u001b[0;32m     58\u001b[0m     \u001b[0mctx\u001b[0m\u001b[1;33m.\u001b[0m\u001b[0mensure_initialized\u001b[0m\u001b[1;33m(\u001b[0m\u001b[1;33m)\u001b[0m\u001b[1;33m\u001b[0m\u001b[1;33m\u001b[0m\u001b[0m\n\u001b[1;32m---> 59\u001b[1;33m     tensors = pywrap_tfe.TFE_Py_Execute(ctx._handle, device_name, op_name,\n\u001b[0m\u001b[0;32m     60\u001b[0m                                         inputs, attrs, num_outputs)\n\u001b[0;32m     61\u001b[0m   \u001b[1;32mexcept\u001b[0m \u001b[0mcore\u001b[0m\u001b[1;33m.\u001b[0m\u001b[0m_NotOkStatusException\u001b[0m \u001b[1;32mas\u001b[0m \u001b[0me\u001b[0m\u001b[1;33m:\u001b[0m\u001b[1;33m\u001b[0m\u001b[1;33m\u001b[0m\u001b[0m\n",
      "\u001b[1;31mKeyboardInterrupt\u001b[0m: "
     ]
    }
   ],
   "source": [
    "  model.compile(loss='categorical_crossentropy', optimizer='adam', metrics=['accuracy'])\n",
    "  history = model.fit(xs, ys, epochs=400, verbose=1)"
   ]
  },
  {
   "cell_type": "code",
   "execution_count": 145,
   "id": "c64dabf4",
   "metadata": {},
   "outputs": [],
   "source": [
    "import matplotlib.pyplot as plt\n",
    "\n",
    "\n",
    "def plot_graphs(history, string,xlim=0,ylim=0):\n",
    "    plt.plot(history.history[string])\n",
    "    plt.xlim(xlim)\n",
    "    plt.ylim(ylim)\n",
    "    plt.xlabel(\"Epochs\")\n",
    "    plt.ylabel(string)\n",
    "    plt.grid()\n",
    "    plt.show()"
   ]
  },
  {
   "cell_type": "code",
   "execution_count": 146,
   "id": "08fbee2e",
   "metadata": {},
   "outputs": [
    {
     "data": {
      "image/png": "[encoded data removed]",
      "text/plain": [
       "<Figure size 432x288 with 1 Axes>"
      ]
     },
     "metadata": {
      "needs_background": "light"
     },
     "output_type": "display_data"
    }
   ],
   "source": [
    "plot_graphs(history, 'accuracy',[200,500],[0.8,1.0])"
   ]
  },
  {
   "cell_type": "code",
   "execution_count": 148,
   "id": "c3edd6a1",
   "metadata": {},
   "outputs": [
    {
     "data": {
      "image/png": "[encoded data removed]",
      "text/plain": [
       "<Figure size 432x288 with 1 Axes>"
      ]
     },
     "metadata": {
      "needs_background": "light"
     },
     "output_type": "display_data"
    }
   ],
   "source": [
    "plot_graphs(history, 'loss',[100,500],[0,1])"
   ]
  },
  {
   "cell_type": "code",
   "execution_count": 173,
   "id": "109f3003",
   "metadata": {},
   "outputs": [
    {
     "name": "stdout",
     "output_type": "stream",
     "text": [
      "girl  one day speak of the night the blues one letter to stir up the blues one letter to stir up the peace one letter to wreak chas one letter is all it takes and that one letter will forever stay in me love for they bont fall they fall in\n"
     ]
    }
   ],
   "source": [
    "seed_text = \"girl \"\n",
    "next_words = 50\n",
    "  \n",
    "for _ in range(next_words):\n",
    "\ttoken_list = tokenizer.texts_to_sequences([seed_text])[0]\n",
    "\ttoken_list = pad_sequences([token_list], maxlen=max_sequence_len-1, padding='pre')\n",
    "\tpredicted = np.argmax(model.predict(token_list), axis=-1)\n",
    "\toutput_word = \"\"\n",
    "\tfor word, index in tokenizer.word_index.items():\n",
    "\t\tif index == predicted:\n",
    "\t\t\toutput_word = word\n",
    "\t\t\tbreak\n",
    "\tseed_text += \" \" + output_word\n",
    "print(seed_text)"
   ]
  },
  {
   "cell_type": "code",
   "execution_count": null,
   "id": "7670be07",
   "metadata": {},
   "outputs": [],
   "source": []
  }
 ],
 "metadata": {
  "kernelspec": {
   "display_name": "Python 3 (ipykernel)",
   "language": "python",
   "name": "python3"
  },
  "language_info": {
   "codemirror_mode": {
    "name": "ipython",
    "version": 3
   },
   "file_extension": ".py",
   "mimetype": "text/x-python",
   "name": "python",
   "nbconvert_exporter": "python",
   "pygments_lexer": "ipython3",
   "version": "3.8.5"
  }
 },
 "nbformat": 4,
 "nbformat_minor": 5
}
